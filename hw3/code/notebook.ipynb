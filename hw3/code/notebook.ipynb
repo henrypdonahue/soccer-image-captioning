{
 "cells": [
  {
   "cell_type": "markdown",
   "metadata": {
    "id": "mqtgqmuWD0hZ"
   },
   "source": [
    "# 1470 final project notebook"
   ]
  },
  {
   "cell_type": "code",
   "execution_count": 45,
   "metadata": {
    "colab": {
     "base_uri": "https://localhost:8080/"
    },
    "id": "3uspvkrjEIaJ",
    "outputId": "9ae97a9e-721e-47e5-96f2-26c50a73256b"
   },
   "outputs": [
    {
     "name": "stdout",
     "output_type": "stream",
     "text": [
      "Python 3.9.13 | packaged by conda-forge | (main, May 27 2022, 17:00:33) \n",
      "[Clang 13.0.1 ]\n"
     ]
    }
   ],
   "source": [
    "!python3 -VV"
   ]
  },
  {
   "cell_type": "markdown",
   "metadata": {
    "id": "EJJyIWTV9Yo_"
   },
   "source": [
    "Package Imports"
   ]
  },
  {
   "cell_type": "code",
   "execution_count": 46,
   "metadata": {
    "id": "Y7s9UO2FGug0"
   },
   "outputs": [],
   "source": [
    "import numpy as np\n",
    "import matplotlib.pyplot as plt\n",
    "import matplotlib as mpl\n",
    "import tensorflow as tf\n",
    "import tensorflow_datasets as tfds\n",
    "import sklearn as sk\n",
    "import keras\n",
    "from keras.models import Sequential\n",
    "from keras.layers import Dense, Dropout, Flatten\n",
    "from keras.layers import Conv2D, MaxPooling2D"
   ]
  },
  {
   "cell_type": "code",
   "execution_count": 47,
   "metadata": {
    "id": "6DRRrF7J9kma"
   },
   "outputs": [],
   "source": [
    "import assignment"
   ]
  },
  {
   "cell_type": "markdown",
   "metadata": {
    "id": "iji6pCKuut8R"
   },
   "source": [
    "Data Pathing"
   ]
  },
  {
   "cell_type": "markdown",
   "metadata": {
    "id": "eehxvvoS-bP4"
   },
   "source": [
    "## Data Preprocessing: IAUFD !"
   ]
  },
  {
   "cell_type": "code",
   "execution_count": 24,
   "metadata": {},
   "outputs": [
    {
     "name": "stdout",
     "output_type": "stream",
     "text": [
      "(100000, 32, 32, 3)\n",
      "(100000, 32, 32, 3)\n"
     ]
    }
   ],
   "source": [
    "data = assignment.divide_data()\n",
    "X0, Y0  = data\n",
    "\n",
    "print(X0.shape)\n",
    "print(Y0.shape)"
   ]
  },
  {
   "cell_type": "code",
   "execution_count": 48,
   "metadata": {},
   "outputs": [
    {
     "name": "stdout",
     "output_type": "stream",
     "text": [
      "(100000, 32, 32, 3)\n",
      "(1165, 10)\n",
      "[0. 0. 0. 0. 0. 1. 0. 0. 0. 0.]\n"
     ]
    }
   ],
   "source": [
    "#print all labels\n",
    "\n",
    "print(X0.shape)\n",
    "print(Y0.shape)\n",
    "\n",
    "Y0 = np.asarray(Y0).astype(\"float64\")\n",
    "\n",
    "print(Y0[10])"
   ]
  },
  {
   "cell_type": "code",
   "execution_count": 49,
   "metadata": {},
   "outputs": [
    {
     "name": "stdout",
     "output_type": "stream",
     "text": [
      "<class 'numpy.ndarray'>\n"
     ]
    }
   ],
   "source": [
    "print(type(Y0))"
   ]
  },
  {
   "cell_type": "code",
   "execution_count": 50,
   "metadata": {},
   "outputs": [
    {
     "ename": "ValueError",
     "evalue": "Found input variables with inconsistent numbers of samples: [100000, 1165]",
     "output_type": "error",
     "traceback": [
      "\u001b[0;31m---------------------------------------------------------------------------\u001b[0m",
      "\u001b[0;31mValueError\u001b[0m                                Traceback (most recent call last)",
      "Cell \u001b[0;32mIn [50], line 3\u001b[0m\n\u001b[1;32m      1\u001b[0m \u001b[39mfrom\u001b[39;00m \u001b[39msklearn\u001b[39;00m\u001b[39m.\u001b[39;00m\u001b[39mmodel_selection\u001b[39;00m \u001b[39mimport\u001b[39;00m train_test_split\n\u001b[0;32m----> 3\u001b[0m X_train, X_test, y_train, y_test \u001b[39m=\u001b[39m train_test_split(X0, Y0, random_state\u001b[39m=\u001b[39;49m\u001b[39m42\u001b[39;49m, test_size\u001b[39m=\u001b[39;49m\u001b[39m0.1\u001b[39;49m)\n",
      "File \u001b[0;32m~/miniconda3/envs/dl3/lib/python3.9/site-packages/sklearn/model_selection/_split.py:2559\u001b[0m, in \u001b[0;36mtrain_test_split\u001b[0;34m(test_size, train_size, random_state, shuffle, stratify, *arrays)\u001b[0m\n\u001b[1;32m   2556\u001b[0m \u001b[39mif\u001b[39;00m n_arrays \u001b[39m==\u001b[39m \u001b[39m0\u001b[39m:\n\u001b[1;32m   2557\u001b[0m     \u001b[39mraise\u001b[39;00m \u001b[39mValueError\u001b[39;00m(\u001b[39m\"\u001b[39m\u001b[39mAt least one array required as input\u001b[39m\u001b[39m\"\u001b[39m)\n\u001b[0;32m-> 2559\u001b[0m arrays \u001b[39m=\u001b[39m indexable(\u001b[39m*\u001b[39;49marrays)\n\u001b[1;32m   2561\u001b[0m n_samples \u001b[39m=\u001b[39m _num_samples(arrays[\u001b[39m0\u001b[39m])\n\u001b[1;32m   2562\u001b[0m n_train, n_test \u001b[39m=\u001b[39m _validate_shuffle_split(\n\u001b[1;32m   2563\u001b[0m     n_samples, test_size, train_size, default_test_size\u001b[39m=\u001b[39m\u001b[39m0.25\u001b[39m\n\u001b[1;32m   2564\u001b[0m )\n",
      "File \u001b[0;32m~/miniconda3/envs/dl3/lib/python3.9/site-packages/sklearn/utils/validation.py:443\u001b[0m, in \u001b[0;36mindexable\u001b[0;34m(*iterables)\u001b[0m\n\u001b[1;32m    424\u001b[0m \u001b[39m\"\"\"Make arrays indexable for cross-validation.\u001b[39;00m\n\u001b[1;32m    425\u001b[0m \n\u001b[1;32m    426\u001b[0m \u001b[39mChecks consistent length, passes through None, and ensures that everything\u001b[39;00m\n\u001b[0;32m   (...)\u001b[0m\n\u001b[1;32m    439\u001b[0m \u001b[39m    sparse matrix, or dataframe) or `None`.\u001b[39;00m\n\u001b[1;32m    440\u001b[0m \u001b[39m\"\"\"\u001b[39;00m\n\u001b[1;32m    442\u001b[0m result \u001b[39m=\u001b[39m [_make_indexable(X) \u001b[39mfor\u001b[39;00m X \u001b[39min\u001b[39;00m iterables]\n\u001b[0;32m--> 443\u001b[0m check_consistent_length(\u001b[39m*\u001b[39;49mresult)\n\u001b[1;32m    444\u001b[0m \u001b[39mreturn\u001b[39;00m result\n",
      "File \u001b[0;32m~/miniconda3/envs/dl3/lib/python3.9/site-packages/sklearn/utils/validation.py:397\u001b[0m, in \u001b[0;36mcheck_consistent_length\u001b[0;34m(*arrays)\u001b[0m\n\u001b[1;32m    395\u001b[0m uniques \u001b[39m=\u001b[39m np\u001b[39m.\u001b[39munique(lengths)\n\u001b[1;32m    396\u001b[0m \u001b[39mif\u001b[39;00m \u001b[39mlen\u001b[39m(uniques) \u001b[39m>\u001b[39m \u001b[39m1\u001b[39m:\n\u001b[0;32m--> 397\u001b[0m     \u001b[39mraise\u001b[39;00m \u001b[39mValueError\u001b[39;00m(\n\u001b[1;32m    398\u001b[0m         \u001b[39m\"\u001b[39m\u001b[39mFound input variables with inconsistent numbers of samples: \u001b[39m\u001b[39m%r\u001b[39;00m\u001b[39m\"\u001b[39m\n\u001b[1;32m    399\u001b[0m         \u001b[39m%\u001b[39m [\u001b[39mint\u001b[39m(l) \u001b[39mfor\u001b[39;00m l \u001b[39min\u001b[39;00m lengths]\n\u001b[1;32m    400\u001b[0m     )\n",
      "\u001b[0;31mValueError\u001b[0m: Found input variables with inconsistent numbers of samples: [100000, 1165]"
     ]
    }
   ],
   "source": [
    "from sklearn.model_selection import train_test_split\n",
    "\n",
    "X_train, X_test, y_train, y_test = train_test_split(X0, Y0, random_state=42, test_size=0.1)"
   ]
  },
  {
   "cell_type": "code",
   "execution_count": 51,
   "metadata": {},
   "outputs": [],
   "source": [
    "model = Sequential()\n",
    "\n",
    "model.add(Conv2D(64, (3,3), input_shape=[224,224,3], strides=(2,2), padding='same', activation=tf.nn.relu,  kernel_initializer='he_uniform'))\n",
    "model.add(Conv2D(64,(3,3), strides=(2,2),padding='same', activation=tf.nn.relu, kernel_initializer='he_uniform'))\n",
    "model.add(tf.keras.layers.MaxPooling2D(pool_size=(2,2), padding='same'))\n",
    "\n",
    "model.add(Conv2D(128, (3,3), strides=(2,2), padding='same', activation=tf.nn.relu,  kernel_initializer='he_uniform'))\n",
    "model.add(Conv2D(128,(3,3), strides=(2,2),padding='same', activation=tf.nn.relu, kernel_initializer='he_uniform'))\n",
    "model.add(tf.keras.layers.MaxPooling2D(pool_size=(2,2), padding='same'))\n",
    "\n",
    "model.add(Conv2D(256, (3,3), strides=(2,2), padding='same', activation=tf.nn.relu,  kernel_initializer='he_uniform'))\n",
    "model.add(Conv2D(256, (3,3), strides=(2,2), padding='same', activation=tf.nn.relu,  kernel_initializer='he_uniform'))\n",
    "model.add(Conv2D(256,(3,3), strides=(2,2),padding='same', activation=tf.nn.relu, kernel_initializer='he_uniform'))\n",
    "model.add(tf.keras.layers.MaxPooling2D(pool_size=(2,2), padding='same'))\n",
    "\n",
    "model.add(Conv2D(512, (3,3), strides=(2,2), padding='same', activation=tf.nn.relu,  kernel_initializer='he_uniform'))\n",
    "model.add(Conv2D(512, (3,3), strides=(2,2), padding='same', activation=tf.nn.relu,  kernel_initializer='he_uniform'))\n",
    "model.add(Conv2D(512,(3,3), strides=(2,2),padding='same', activation=tf.nn.relu, kernel_initializer='he_uniform'))\n",
    "model.add(tf.keras.layers.MaxPooling2D(pool_size=(2,2), padding='same'))\n",
    "\n",
    "model.add(Conv2D(512, (3,3), strides=(2,2), padding='same', activation=tf.nn.relu,  kernel_initializer='he_uniform'))\n",
    "model.add(Conv2D(512, (3,3), strides=(2,2), padding='same', activation=tf.nn.relu,  kernel_initializer='he_uniform'))\n",
    "model.add(Conv2D(512,(3,3), strides=(2,2),padding='same', activation=tf.nn.relu, kernel_initializer='he_uniform'))\n",
    "model.add(tf.keras.layers.MaxPooling2D(pool_size=(2,2), padding='same'))\n",
    "\n",
    "model.add(tf.keras.layers.Flatten())\n",
    "model.add(tf.keras.layers.Dense(4096, activation=tf.nn.relu))\n",
    "model.add(tf.keras.layers.Dense(4096, activation=tf.nn.relu))\n",
    "model.add(tf.keras.layers.Dense(10, activation='softmax'))\n"
   ]
  },
  {
   "cell_type": "code",
   "execution_count": 36,
   "metadata": {},
   "outputs": [],
   "source": [
    "model.compile(optimizer='adam', loss='binary_crossentropy', metrics=['accuracy'])\n"
   ]
  },
  {
   "cell_type": "code",
   "execution_count": 37,
   "metadata": {},
   "outputs": [
    {
     "name": "stdout",
     "output_type": "stream",
     "text": [
      "Epoch 1/10\n",
      " 2/11 [====>.........................] - ETA: 11s - loss: 0.6903 - accuracy: 0.2300"
     ]
    },
    {
     "ename": "KeyboardInterrupt",
     "evalue": "",
     "output_type": "error",
     "traceback": [
      "\u001b[0;31m---------------------------------------------------------------------------\u001b[0m",
      "\u001b[0;31mKeyboardInterrupt\u001b[0m                         Traceback (most recent call last)",
      "Cell \u001b[0;32mIn [37], line 1\u001b[0m\n\u001b[0;32m----> 1\u001b[0m model\u001b[39m.\u001b[39;49mfit(X_train, y_train, epochs\u001b[39m=\u001b[39;49m\u001b[39m10\u001b[39;49m, validation_data\u001b[39m=\u001b[39;49m(X_test, y_test), batch_size\u001b[39m=\u001b[39;49m\u001b[39m100\u001b[39;49m)\n",
      "File \u001b[0;32m~/miniconda3/envs/dl3/lib/python3.9/site-packages/keras/utils/traceback_utils.py:64\u001b[0m, in \u001b[0;36mfilter_traceback.<locals>.error_handler\u001b[0;34m(*args, **kwargs)\u001b[0m\n\u001b[1;32m     62\u001b[0m filtered_tb \u001b[39m=\u001b[39m \u001b[39mNone\u001b[39;00m\n\u001b[1;32m     63\u001b[0m \u001b[39mtry\u001b[39;00m:\n\u001b[0;32m---> 64\u001b[0m   \u001b[39mreturn\u001b[39;00m fn(\u001b[39m*\u001b[39;49margs, \u001b[39m*\u001b[39;49m\u001b[39m*\u001b[39;49mkwargs)\n\u001b[1;32m     65\u001b[0m \u001b[39mexcept\u001b[39;00m \u001b[39mException\u001b[39;00m \u001b[39mas\u001b[39;00m e:  \u001b[39m# pylint: disable=broad-except\u001b[39;00m\n\u001b[1;32m     66\u001b[0m   filtered_tb \u001b[39m=\u001b[39m _process_traceback_frames(e\u001b[39m.\u001b[39m__traceback__)\n",
      "File \u001b[0;32m~/miniconda3/envs/dl3/lib/python3.9/site-packages/keras/engine/training.py:1216\u001b[0m, in \u001b[0;36mModel.fit\u001b[0;34m(self, x, y, batch_size, epochs, verbose, callbacks, validation_split, validation_data, shuffle, class_weight, sample_weight, initial_epoch, steps_per_epoch, validation_steps, validation_batch_size, validation_freq, max_queue_size, workers, use_multiprocessing)\u001b[0m\n\u001b[1;32m   1209\u001b[0m \u001b[39mwith\u001b[39;00m tf\u001b[39m.\u001b[39mprofiler\u001b[39m.\u001b[39mexperimental\u001b[39m.\u001b[39mTrace(\n\u001b[1;32m   1210\u001b[0m     \u001b[39m'\u001b[39m\u001b[39mtrain\u001b[39m\u001b[39m'\u001b[39m,\n\u001b[1;32m   1211\u001b[0m     epoch_num\u001b[39m=\u001b[39mepoch,\n\u001b[1;32m   1212\u001b[0m     step_num\u001b[39m=\u001b[39mstep,\n\u001b[1;32m   1213\u001b[0m     batch_size\u001b[39m=\u001b[39mbatch_size,\n\u001b[1;32m   1214\u001b[0m     _r\u001b[39m=\u001b[39m\u001b[39m1\u001b[39m):\n\u001b[1;32m   1215\u001b[0m   callbacks\u001b[39m.\u001b[39mon_train_batch_begin(step)\n\u001b[0;32m-> 1216\u001b[0m   tmp_logs \u001b[39m=\u001b[39m \u001b[39mself\u001b[39;49m\u001b[39m.\u001b[39;49mtrain_function(iterator)\n\u001b[1;32m   1217\u001b[0m   \u001b[39mif\u001b[39;00m data_handler\u001b[39m.\u001b[39mshould_sync:\n\u001b[1;32m   1218\u001b[0m     context\u001b[39m.\u001b[39masync_wait()\n",
      "File \u001b[0;32m~/miniconda3/envs/dl3/lib/python3.9/site-packages/tensorflow/python/util/traceback_utils.py:150\u001b[0m, in \u001b[0;36mfilter_traceback.<locals>.error_handler\u001b[0;34m(*args, **kwargs)\u001b[0m\n\u001b[1;32m    148\u001b[0m filtered_tb \u001b[39m=\u001b[39m \u001b[39mNone\u001b[39;00m\n\u001b[1;32m    149\u001b[0m \u001b[39mtry\u001b[39;00m:\n\u001b[0;32m--> 150\u001b[0m   \u001b[39mreturn\u001b[39;00m fn(\u001b[39m*\u001b[39;49margs, \u001b[39m*\u001b[39;49m\u001b[39m*\u001b[39;49mkwargs)\n\u001b[1;32m    151\u001b[0m \u001b[39mexcept\u001b[39;00m \u001b[39mException\u001b[39;00m \u001b[39mas\u001b[39;00m e:\n\u001b[1;32m    152\u001b[0m   filtered_tb \u001b[39m=\u001b[39m _process_traceback_frames(e\u001b[39m.\u001b[39m__traceback__)\n",
      "File \u001b[0;32m~/miniconda3/envs/dl3/lib/python3.9/site-packages/tensorflow/python/eager/def_function.py:910\u001b[0m, in \u001b[0;36mFunction.__call__\u001b[0;34m(self, *args, **kwds)\u001b[0m\n\u001b[1;32m    907\u001b[0m compiler \u001b[39m=\u001b[39m \u001b[39m\"\u001b[39m\u001b[39mxla\u001b[39m\u001b[39m\"\u001b[39m \u001b[39mif\u001b[39;00m \u001b[39mself\u001b[39m\u001b[39m.\u001b[39m_jit_compile \u001b[39melse\u001b[39;00m \u001b[39m\"\u001b[39m\u001b[39mnonXla\u001b[39m\u001b[39m\"\u001b[39m\n\u001b[1;32m    909\u001b[0m \u001b[39mwith\u001b[39;00m OptionalXlaContext(\u001b[39mself\u001b[39m\u001b[39m.\u001b[39m_jit_compile):\n\u001b[0;32m--> 910\u001b[0m   result \u001b[39m=\u001b[39m \u001b[39mself\u001b[39;49m\u001b[39m.\u001b[39;49m_call(\u001b[39m*\u001b[39;49margs, \u001b[39m*\u001b[39;49m\u001b[39m*\u001b[39;49mkwds)\n\u001b[1;32m    912\u001b[0m new_tracing_count \u001b[39m=\u001b[39m \u001b[39mself\u001b[39m\u001b[39m.\u001b[39mexperimental_get_tracing_count()\n\u001b[1;32m    913\u001b[0m without_tracing \u001b[39m=\u001b[39m (tracing_count \u001b[39m==\u001b[39m new_tracing_count)\n",
      "File \u001b[0;32m~/miniconda3/envs/dl3/lib/python3.9/site-packages/tensorflow/python/eager/def_function.py:942\u001b[0m, in \u001b[0;36mFunction._call\u001b[0;34m(self, *args, **kwds)\u001b[0m\n\u001b[1;32m    939\u001b[0m   \u001b[39mself\u001b[39m\u001b[39m.\u001b[39m_lock\u001b[39m.\u001b[39mrelease()\n\u001b[1;32m    940\u001b[0m   \u001b[39m# In this case we have created variables on the first call, so we run the\u001b[39;00m\n\u001b[1;32m    941\u001b[0m   \u001b[39m# defunned version which is guaranteed to never create variables.\u001b[39;00m\n\u001b[0;32m--> 942\u001b[0m   \u001b[39mreturn\u001b[39;00m \u001b[39mself\u001b[39;49m\u001b[39m.\u001b[39;49m_stateless_fn(\u001b[39m*\u001b[39;49margs, \u001b[39m*\u001b[39;49m\u001b[39m*\u001b[39;49mkwds)  \u001b[39m# pylint: disable=not-callable\u001b[39;00m\n\u001b[1;32m    943\u001b[0m \u001b[39melif\u001b[39;00m \u001b[39mself\u001b[39m\u001b[39m.\u001b[39m_stateful_fn \u001b[39mis\u001b[39;00m \u001b[39mnot\u001b[39;00m \u001b[39mNone\u001b[39;00m:\n\u001b[1;32m    944\u001b[0m   \u001b[39m# Release the lock early so that multiple threads can perform the call\u001b[39;00m\n\u001b[1;32m    945\u001b[0m   \u001b[39m# in parallel.\u001b[39;00m\n\u001b[1;32m    946\u001b[0m   \u001b[39mself\u001b[39m\u001b[39m.\u001b[39m_lock\u001b[39m.\u001b[39mrelease()\n",
      "File \u001b[0;32m~/miniconda3/envs/dl3/lib/python3.9/site-packages/tensorflow/python/eager/function.py:3130\u001b[0m, in \u001b[0;36mFunction.__call__\u001b[0;34m(self, *args, **kwargs)\u001b[0m\n\u001b[1;32m   3127\u001b[0m \u001b[39mwith\u001b[39;00m \u001b[39mself\u001b[39m\u001b[39m.\u001b[39m_lock:\n\u001b[1;32m   3128\u001b[0m   (graph_function,\n\u001b[1;32m   3129\u001b[0m    filtered_flat_args) \u001b[39m=\u001b[39m \u001b[39mself\u001b[39m\u001b[39m.\u001b[39m_maybe_define_function(args, kwargs)\n\u001b[0;32m-> 3130\u001b[0m \u001b[39mreturn\u001b[39;00m graph_function\u001b[39m.\u001b[39;49m_call_flat(\n\u001b[1;32m   3131\u001b[0m     filtered_flat_args, captured_inputs\u001b[39m=\u001b[39;49mgraph_function\u001b[39m.\u001b[39;49mcaptured_inputs)\n",
      "File \u001b[0;32m~/miniconda3/envs/dl3/lib/python3.9/site-packages/tensorflow/python/eager/function.py:1959\u001b[0m, in \u001b[0;36mConcreteFunction._call_flat\u001b[0;34m(self, args, captured_inputs, cancellation_manager)\u001b[0m\n\u001b[1;32m   1955\u001b[0m possible_gradient_type \u001b[39m=\u001b[39m gradients_util\u001b[39m.\u001b[39mPossibleTapeGradientTypes(args)\n\u001b[1;32m   1956\u001b[0m \u001b[39mif\u001b[39;00m (possible_gradient_type \u001b[39m==\u001b[39m gradients_util\u001b[39m.\u001b[39mPOSSIBLE_GRADIENT_TYPES_NONE\n\u001b[1;32m   1957\u001b[0m     \u001b[39mand\u001b[39;00m executing_eagerly):\n\u001b[1;32m   1958\u001b[0m   \u001b[39m# No tape is watching; skip to running the function.\u001b[39;00m\n\u001b[0;32m-> 1959\u001b[0m   \u001b[39mreturn\u001b[39;00m \u001b[39mself\u001b[39m\u001b[39m.\u001b[39m_build_call_outputs(\u001b[39mself\u001b[39;49m\u001b[39m.\u001b[39;49m_inference_function\u001b[39m.\u001b[39;49mcall(\n\u001b[1;32m   1960\u001b[0m       ctx, args, cancellation_manager\u001b[39m=\u001b[39;49mcancellation_manager))\n\u001b[1;32m   1961\u001b[0m forward_backward \u001b[39m=\u001b[39m \u001b[39mself\u001b[39m\u001b[39m.\u001b[39m_select_forward_and_backward_functions(\n\u001b[1;32m   1962\u001b[0m     args,\n\u001b[1;32m   1963\u001b[0m     possible_gradient_type,\n\u001b[1;32m   1964\u001b[0m     executing_eagerly)\n\u001b[1;32m   1965\u001b[0m forward_function, args_with_tangents \u001b[39m=\u001b[39m forward_backward\u001b[39m.\u001b[39mforward()\n",
      "File \u001b[0;32m~/miniconda3/envs/dl3/lib/python3.9/site-packages/tensorflow/python/eager/function.py:598\u001b[0m, in \u001b[0;36m_EagerDefinedFunction.call\u001b[0;34m(self, ctx, args, cancellation_manager)\u001b[0m\n\u001b[1;32m    596\u001b[0m \u001b[39mwith\u001b[39;00m _InterpolateFunctionError(\u001b[39mself\u001b[39m):\n\u001b[1;32m    597\u001b[0m   \u001b[39mif\u001b[39;00m cancellation_manager \u001b[39mis\u001b[39;00m \u001b[39mNone\u001b[39;00m:\n\u001b[0;32m--> 598\u001b[0m     outputs \u001b[39m=\u001b[39m execute\u001b[39m.\u001b[39;49mexecute(\n\u001b[1;32m    599\u001b[0m         \u001b[39mstr\u001b[39;49m(\u001b[39mself\u001b[39;49m\u001b[39m.\u001b[39;49msignature\u001b[39m.\u001b[39;49mname),\n\u001b[1;32m    600\u001b[0m         num_outputs\u001b[39m=\u001b[39;49m\u001b[39mself\u001b[39;49m\u001b[39m.\u001b[39;49m_num_outputs,\n\u001b[1;32m    601\u001b[0m         inputs\u001b[39m=\u001b[39;49margs,\n\u001b[1;32m    602\u001b[0m         attrs\u001b[39m=\u001b[39;49mattrs,\n\u001b[1;32m    603\u001b[0m         ctx\u001b[39m=\u001b[39;49mctx)\n\u001b[1;32m    604\u001b[0m   \u001b[39melse\u001b[39;00m:\n\u001b[1;32m    605\u001b[0m     outputs \u001b[39m=\u001b[39m execute\u001b[39m.\u001b[39mexecute_with_cancellation(\n\u001b[1;32m    606\u001b[0m         \u001b[39mstr\u001b[39m(\u001b[39mself\u001b[39m\u001b[39m.\u001b[39msignature\u001b[39m.\u001b[39mname),\n\u001b[1;32m    607\u001b[0m         num_outputs\u001b[39m=\u001b[39m\u001b[39mself\u001b[39m\u001b[39m.\u001b[39m_num_outputs,\n\u001b[0;32m   (...)\u001b[0m\n\u001b[1;32m    610\u001b[0m         ctx\u001b[39m=\u001b[39mctx,\n\u001b[1;32m    611\u001b[0m         cancellation_manager\u001b[39m=\u001b[39mcancellation_manager)\n",
      "File \u001b[0;32m~/miniconda3/envs/dl3/lib/python3.9/site-packages/tensorflow/python/eager/execute.py:58\u001b[0m, in \u001b[0;36mquick_execute\u001b[0;34m(op_name, num_outputs, inputs, attrs, ctx, name)\u001b[0m\n\u001b[1;32m     56\u001b[0m \u001b[39mtry\u001b[39;00m:\n\u001b[1;32m     57\u001b[0m   ctx\u001b[39m.\u001b[39mensure_initialized()\n\u001b[0;32m---> 58\u001b[0m   tensors \u001b[39m=\u001b[39m pywrap_tfe\u001b[39m.\u001b[39;49mTFE_Py_Execute(ctx\u001b[39m.\u001b[39;49m_handle, device_name, op_name,\n\u001b[1;32m     59\u001b[0m                                       inputs, attrs, num_outputs)\n\u001b[1;32m     60\u001b[0m \u001b[39mexcept\u001b[39;00m core\u001b[39m.\u001b[39m_NotOkStatusException \u001b[39mas\u001b[39;00m e:\n\u001b[1;32m     61\u001b[0m   \u001b[39mif\u001b[39;00m name \u001b[39mis\u001b[39;00m \u001b[39mnot\u001b[39;00m \u001b[39mNone\u001b[39;00m:\n",
      "\u001b[0;31mKeyboardInterrupt\u001b[0m: "
     ]
    }
   ],
   "source": [
    "model.fit(X_train, y_train, epochs=10, validation_data=(X_test, y_test), batch_size=100)"
   ]
  },
  {
   "cell_type": "markdown",
   "metadata": {},
   "source": [
    "### Augmenting train data"
   ]
  },
  {
   "cell_type": "code",
   "execution_count": 20,
   "metadata": {},
   "outputs": [
    {
     "ename": "NameError",
     "evalue": "name 'conv_model' is not defined",
     "output_type": "error",
     "traceback": [
      "\u001b[0;31m---------------------------------------------------------------------------\u001b[0m",
      "\u001b[0;31mNameError\u001b[0m                                 Traceback (most recent call last)",
      "Cell \u001b[0;32mIn [20], line 9\u001b[0m\n\u001b[1;32m      6\u001b[0m fig, ax \u001b[39m=\u001b[39m plt\u001b[39m.\u001b[39msubplots(\u001b[39m3\u001b[39m, \u001b[39m10\u001b[39m)\n\u001b[1;32m      7\u001b[0m fig\u001b[39m.\u001b[39mset_size_inches(\u001b[39m24\u001b[39m, \u001b[39m8\u001b[39m)\n\u001b[0;32m----> 9\u001b[0m args \u001b[39m=\u001b[39m conv_model\u001b[39m.\u001b[39mget_default_CNN_model()\n\u001b[1;32m     11\u001b[0m preprocessed_images \u001b[39m=\u001b[39m args\u001b[39m.\u001b[39mmodel\u001b[39m.\u001b[39minput_prep_fn(sample_images)\n\u001b[1;32m     12\u001b[0m augmented_images \u001b[39m=\u001b[39m args\u001b[39m.\u001b[39mmodel\u001b[39m.\u001b[39maugment_fn(preprocessed_images)\n",
      "\u001b[0;31mNameError\u001b[0m: name 'conv_model' is not defined"
     ]
    },
    {
     "data": {
      "image/png": "[encoded data removed]",
      "text/plain": [
       "<Figure size 2400x800 with 30 Axes>"
      ]
     },
     "metadata": {},
     "output_type": "display_data"
    }
   ],
   "source": [
    "## You can use any list of 10 indices\n",
    "sample_image_indices = [0, 1, 2, 3, 4, 5, 6, 7, 8, 9]\n",
    "sample_images = tf.cast(tf.gather(X0, sample_image_indices), tf.float32)\n",
    "sample_labels = tf.gather(Y0, sample_image_indices)\n",
    "\n",
    "fig, ax = plt.subplots(3, 10)\n",
    "fig.set_size_inches(24, 8)\n",
    "\n",
    "args = conv_model.get_default_CNN_model()\n",
    "\n",
    "preprocessed_images = args.model.input_prep_fn(sample_images)\n",
    "augmented_images = args.model.augment_fn(preprocessed_images)\n",
    "\n",
    "for i in range(10):\n",
    "    ax[0][i].imshow(sample_images[i]/255., cmap = \"Greys\")\n",
    "    ax[1][i].imshow(preprocessed_images[i], cmap = \"Greys\")\n",
    "    ax[2][i].imshow(augmented_images[i], cmap = \"Greys\")"
   ]
  },
  {
   "cell_type": "markdown",
   "metadata": {},
   "source": [
    "## Train A Basic Keras Model\n",
    "\n",
    "As part of step 2 from the handout, we just want you to construct a simple keras model to run prediction on your dataset!\n",
    "\n",
    "Implement **[TODO 2]** in `get_default_CNN_model` to return a CNN model that can train above an accuracy of 55% (note that the requirement for 1470 is 62% and for 2470, is 65% though). Feel free to play around with the number of layers, hyperparameters for layers, epochs, batch size, and anything else you can think of. \n",
    "\n",
    "**Requirements:**\n",
    "- Model must contain Conv2D, BatchNormalization, and Dropout layers. \n",
    "- These must be imported from the argument namespaces (already done by default).\n",
    "- Task 1 will automatically use `tf.keras.layers` implementations."
   ]
  },
  {
   "cell_type": "code",
   "execution_count": null,
   "metadata": {},
   "outputs": [
    {
     "name": "stdout",
     "output_type": "stream",
     "text": [
      "Starting Model Training\n",
      "Epoch 1/10\n"
     ]
    },
    {
     "ename": "InvalidArgumentError",
     "evalue": "Exception encountered when calling layer \"category_encoding_3\" (type CategoryEncoding).\n\nValue for attr 'T' of string is not in the list of allowed values: float, double, int32, uint8, int16, int8, int64, bfloat16, uint16, half, uint32, uint64, qint8, quint8, qint32, qint16, quint16\n\t; NodeDef: {{node Max}}; Op<name=Max; signature=input:T, reduction_indices:Tidx -> output:T; attr=keep_dims:bool,default=false; attr=T:type,allowed=[DT_FLOAT, DT_DOUBLE, DT_INT32, DT_UINT8, DT_INT16, DT_INT8, DT_INT64, DT_BFLOAT16, DT_UINT16, DT_HALF, DT_UINT32, DT_UINT64, DT_QINT8, DT_QUINT8, DT_QINT32, DT_QINT16, DT_QUINT16]; attr=Tidx:type,default=DT_INT32,allowed=[DT_INT32, DT_INT64]> [Op:Max]\n\nCall arguments received:\n  • inputs=tf.Tensor(shape=(10, 10), dtype=string)\n  • count_weights=None",
     "output_type": "error",
     "traceback": [
      "\u001b[0;31m---------------------------------------------------------------------------\u001b[0m",
      "\u001b[0;31mInvalidArgumentError\u001b[0m                      Traceback (most recent call last)",
      "\u001b[1;32m/Users/amolsanghera/Desktop/CS1470/soccer-image-captioning/hw3/code/notebook.ipynb Cell 15\u001b[0m in \u001b[0;36m<cell line: 4>\u001b[0;34m()\u001b[0m\n\u001b[1;32m      <a href='vscode-notebook-cell:/Users/amolsanghera/Desktop/CS1470/soccer-image-captioning/hw3/code/notebook.ipynb#X20sZmlsZQ%3D%3D?line=0'>1</a>\u001b[0m \u001b[39mimport\u001b[39;00m \u001b[39massignment\u001b[39;00m \n\u001b[1;32m      <a href='vscode-notebook-cell:/Users/amolsanghera/Desktop/CS1470/soccer-image-captioning/hw3/code/notebook.ipynb#X20sZmlsZQ%3D%3D?line=2'>3</a>\u001b[0m \u001b[39m## You can test with more epochs later\u001b[39;00m\n\u001b[0;32m----> <a href='vscode-notebook-cell:/Users/amolsanghera/Desktop/CS1470/soccer-image-captioning/hw3/code/notebook.ipynb#X20sZmlsZQ%3D%3D?line=3'>4</a>\u001b[0m cnn_model \u001b[39m=\u001b[39m assignment\u001b[39m.\u001b[39;49mrun_task(data, \u001b[39m1\u001b[39;49m, epochs\u001b[39m=\u001b[39;49m\u001b[39m10\u001b[39;49m, batch_size\u001b[39m=\u001b[39;49m\u001b[39m250\u001b[39;49m)\n",
      "File \u001b[0;32m~/Desktop/CS1470/soccer-image-captioning/hw3/code/assignment.py:187\u001b[0m, in \u001b[0;36mrun_task\u001b[0;34m(data, task, subtask, epochs, batch_size)\u001b[0m\n\u001b[1;32m    185\u001b[0m \u001b[39m# Training model\u001b[39;00m\n\u001b[1;32m    186\u001b[0m \u001b[39mprint\u001b[39m(\u001b[39m\"\u001b[39m\u001b[39mStarting Model Training\u001b[39m\u001b[39m\"\u001b[39m)\n\u001b[0;32m--> 187\u001b[0m history \u001b[39m=\u001b[39m args\u001b[39m.\u001b[39;49mmodel\u001b[39m.\u001b[39;49mfit(\n\u001b[1;32m    188\u001b[0m     X0_sub, Y0_sub,\n\u001b[1;32m    189\u001b[0m     epochs          \u001b[39m=\u001b[39;49m epochs,\n\u001b[1;32m    190\u001b[0m     batch_size      \u001b[39m=\u001b[39;49m batch_size,\n\u001b[1;32m    191\u001b[0m     validation_data \u001b[39m=\u001b[39;49m (X1_sub, Y1_sub),\n\u001b[1;32m    192\u001b[0m )\n\u001b[1;32m    194\u001b[0m \u001b[39mreturn\u001b[39;00m args\u001b[39m.\u001b[39mmodel\n",
      "File \u001b[0;32m/Library/Frameworks/Python.framework/Versions/3.9/lib/python3.9/site-packages/keras/utils/traceback_utils.py:67\u001b[0m, in \u001b[0;36mfilter_traceback.<locals>.error_handler\u001b[0;34m(*args, **kwargs)\u001b[0m\n\u001b[1;32m     65\u001b[0m \u001b[39mexcept\u001b[39;00m \u001b[39mException\u001b[39;00m \u001b[39mas\u001b[39;00m e:  \u001b[39m# pylint: disable=broad-except\u001b[39;00m\n\u001b[1;32m     66\u001b[0m   filtered_tb \u001b[39m=\u001b[39m _process_traceback_frames(e\u001b[39m.\u001b[39m__traceback__)\n\u001b[0;32m---> 67\u001b[0m   \u001b[39mraise\u001b[39;00m e\u001b[39m.\u001b[39mwith_traceback(filtered_tb) \u001b[39mfrom\u001b[39;00m \u001b[39mNone\u001b[39m\n\u001b[1;32m     68\u001b[0m \u001b[39mfinally\u001b[39;00m:\n\u001b[1;32m     69\u001b[0m   \u001b[39mdel\u001b[39;00m filtered_tb\n",
      "File \u001b[0;32m~/Desktop/CS1470/soccer-image-captioning/hw3/code/conv_model.py:165\u001b[0m, in \u001b[0;36mCustomSequential.train_step\u001b[0;34m(self, data)\u001b[0m\n\u001b[1;32m    164\u001b[0m \u001b[39mdef\u001b[39;00m \u001b[39mtrain_step\u001b[39m(\u001b[39mself\u001b[39m, data):\n\u001b[0;32m--> 165\u001b[0m     \u001b[39mreturn\u001b[39;00m \u001b[39mself\u001b[39;49m\u001b[39m.\u001b[39;49mbatch_step(data, training\u001b[39m=\u001b[39;49m\u001b[39mTrue\u001b[39;49;00m)\n",
      "File \u001b[0;32m~/Desktop/CS1470/soccer-image-captioning/hw3/code/conv_model.py:146\u001b[0m, in \u001b[0;36mCustomSequential.batch_step\u001b[0;34m(self, data, training)\u001b[0m\n\u001b[1;32m    143\u001b[0m x_raw, y_raw \u001b[39m=\u001b[39m data\n\u001b[1;32m    145\u001b[0m x \u001b[39m=\u001b[39m \u001b[39mself\u001b[39m\u001b[39m.\u001b[39minput_prep_fn(x_raw)\n\u001b[0;32m--> 146\u001b[0m y \u001b[39m=\u001b[39m \u001b[39mself\u001b[39;49m\u001b[39m.\u001b[39;49moutput_prep_fn(y_raw)\n\u001b[1;32m    147\u001b[0m \u001b[39mif\u001b[39;00m training:\n\u001b[1;32m    148\u001b[0m     x \u001b[39m=\u001b[39m \u001b[39mself\u001b[39m\u001b[39m.\u001b[39maugment_fn(x)\n",
      "\u001b[0;31mInvalidArgumentError\u001b[0m: Exception encountered when calling layer \"category_encoding_3\" (type CategoryEncoding).\n\nValue for attr 'T' of string is not in the list of allowed values: float, double, int32, uint8, int16, int8, int64, bfloat16, uint16, half, uint32, uint64, qint8, quint8, qint32, qint16, quint16\n\t; NodeDef: {{node Max}}; Op<name=Max; signature=input:T, reduction_indices:Tidx -> output:T; attr=keep_dims:bool,default=false; attr=T:type,allowed=[DT_FLOAT, DT_DOUBLE, DT_INT32, DT_UINT8, DT_INT16, DT_INT8, DT_INT64, DT_BFLOAT16, DT_UINT16, DT_HALF, DT_UINT32, DT_UINT64, DT_QINT8, DT_QUINT8, DT_QINT32, DT_QINT16, DT_QUINT16]; attr=Tidx:type,default=DT_INT32,allowed=[DT_INT32, DT_INT64]> [Op:Max]\n\nCall arguments received:\n  • inputs=tf.Tensor(shape=(10, 10), dtype=string)\n  • count_weights=None"
     ]
    }
   ],
   "source": [
    "import assignment \n",
    "\n",
    "## You can test with more epochs later\n",
    "cnn_model = assignment.run_task(data, 1, epochs=10, batch_size=250)"
   ]
  },
  {
   "cell_type": "code",
   "execution_count": null,
   "metadata": {},
   "outputs": [
    {
     "ename": "ValueError",
     "evalue": "not enough values to unpack (expected 7, got 4)",
     "output_type": "error",
     "traceback": [
      "\u001b[0;31m---------------------------------------------------------------------------\u001b[0m",
      "\u001b[0;31mValueError\u001b[0m                                Traceback (most recent call last)",
      "Cell \u001b[0;32mIn [46], line 4\u001b[0m\n\u001b[1;32m      1\u001b[0m \u001b[39mimport\u001b[39;00m \u001b[39massignment\u001b[39;00m \n\u001b[1;32m      3\u001b[0m \u001b[39m## You can test with more epochs later\u001b[39;00m\n\u001b[0;32m----> 4\u001b[0m cnn_model \u001b[39m=\u001b[39m assignment\u001b[39m.\u001b[39;49mrun_task(data, \u001b[39m2\u001b[39;49m, epochs\u001b[39m=\u001b[39;49m\u001b[39m10\u001b[39;49m, batch_size\u001b[39m=\u001b[39;49m\u001b[39m100\u001b[39;49m)\n",
      "File \u001b[0;32m~/Desktop/files/brown-cs/cs1470/soccer-image-captioning/hw3/code/assignment.py:120\u001b[0m, in \u001b[0;36mrun_task\u001b[0;34m(data, task, subtask, epochs, batch_size)\u001b[0m\n\u001b[1;32m    117\u001b[0m \u001b[39mimport\u001b[39;00m \u001b[39mlayers_manual\u001b[39;00m  \u001b[39m## Where your manual non-diffable conv implementation resides\u001b[39;00m\n\u001b[1;32m    119\u001b[0m \u001b[39m## Retrieve data from tuple\u001b[39;00m\n\u001b[0;32m--> 120\u001b[0m X0, Y0, X1, Y1, D0, D1, D_info \u001b[39m=\u001b[39m data\n\u001b[1;32m    122\u001b[0m subtask \u001b[39m=\u001b[39m [\u001b[39m1\u001b[39m, \u001b[39m2\u001b[39m, \u001b[39m3\u001b[39m] \u001b[39mif\u001b[39;00m subtask \u001b[39m==\u001b[39m \u001b[39m\"\u001b[39m\u001b[39mall\u001b[39m\u001b[39m\"\u001b[39m \u001b[39melse\u001b[39;00m [\u001b[39mint\u001b[39m(subtask)]\n\u001b[1;32m    124\u001b[0m \u001b[39m## Get a working model with regular tf.keras.layers components\u001b[39;00m\n\u001b[1;32m    125\u001b[0m \u001b[39m## when task = 1.\u001b[39;00m\n",
      "\u001b[0;31mValueError\u001b[0m: not enough values to unpack (expected 7, got 4)"
     ]
    }
   ],
   "source": [
    "import assignment \n",
    "\n",
    "## You can test with more epochs later\n",
    "cnn_model = assignment.run_task(data, 2, epochs=10, batch_size=100)"
   ]
  },
  {
   "cell_type": "code",
   "execution_count": null,
   "metadata": {},
   "outputs": [
    {
     "ename": "NameError",
     "evalue": "name 'cnn_model' is not defined",
     "output_type": "error",
     "traceback": [
      "\u001b[0;31m---------------------------------------------------------------------------\u001b[0m",
      "\u001b[0;31mNameError\u001b[0m                                 Traceback (most recent call last)",
      "Cell \u001b[0;32mIn [47], line 1\u001b[0m\n\u001b[0;32m----> 1\u001b[0m cnn_model\u001b[39m.\u001b[39msummary()\n",
      "\u001b[0;31mNameError\u001b[0m: name 'cnn_model' is not defined"
     ]
    }
   ],
   "source": [
    "cnn_model.summary()"
   ]
  },
  {
   "cell_type": "markdown",
   "metadata": {},
   "source": [
    "## Make Your Own Layers\n",
    "For steps 3, 4, and 5 from the handout, you'll need to implement the layers from scratch inside of `layers_keras.py`.\n",
    "Feel free to refer to the official documentation for how these methods are supposed to function. \n",
    "More details are included in the layer block comments, and the init methods are already provided. \n",
    "\n",
    "**Requirements**:\n",
    "- Implement Conv2D, BatchNormalization, and Dropout in `layers_keras.py`\n",
    "- Cannot use existing layers as sub-components. \n",
    "- Cannot use `tf.nn.batch_normalization` or `tf.nn.dropout`. \n",
    "- CAN use `tf.nn.convolution`...\n",
    "- Should utilize all non-commented-out arguments. "
   ]
  },
  {
   "cell_type": "markdown",
   "metadata": {},
   "source": [
    "### 2D Convolution"
   ]
  },
  {
   "cell_type": "markdown",
   "metadata": {},
   "source": [
    "Use the below code block to confirm that your custom implementation of Conv2D runs without erroring. This does not guarantee that your forward pass calculations are correct. It serves only as a preliminary check."
   ]
  },
  {
   "cell_type": "code",
   "execution_count": null,
   "metadata": {},
   "outputs": [
    {
     "name": "stdout",
     "output_type": "stream",
     "text": [
      "Output: tf.Tensor(\n",
      "[[[[-1.3874068]\n",
      "   [ 1.8371265]]\n",
      "\n",
      "  [[ 4.395982 ]\n",
      "   [ 5.2402725]]]], shape=(1, 2, 2, 1), dtype=float32)\n",
      "Expected: tf.Tensor(\n",
      "[[[[-1.3874068]\n",
      "   [ 1.8371265]]\n",
      "\n",
      "  [[ 4.395982 ]\n",
      "   [ 5.2402725]]]], shape=(1, 2, 2, 1), dtype=float32)\n"
     ]
    }
   ],
   "source": [
    "import layers_keras\n",
    "\n",
    "random_input = tf.random.uniform((1, 4, 4, 3), 0, 10, dtype=tf.float32)\n",
    "\n",
    "seed = 8675309\n",
    "tf.random.set_seed(seed)\n",
    "conv_layer = layers_keras.Conv2D(1, 2, strides=2)\n",
    "print(\"Output:\", conv_layer(random_input, training=True))\n",
    "\n",
    "tf.random.set_seed(seed)\n",
    "conv_layer = tf.keras.layers.Conv2D(1, 2, strides=2)\n",
    "print('Expected:', conv_layer(random_input, training=True))"
   ]
  },
  {
   "cell_type": "markdown",
   "metadata": {},
   "source": [
    "### Batch Normalization"
   ]
  },
  {
   "cell_type": "markdown",
   "metadata": {},
   "source": [
    "Use the below code block to confirm that your custom implementation of Batch Normalization runs without erroring. This does not guarantee that your forward pass calculations are correct. It serves only as a preliminary check."
   ]
  },
  {
   "cell_type": "code",
   "execution_count": null,
   "metadata": {},
   "outputs": [
    {
     "name": "stdout",
     "output_type": "stream",
     "text": [
      "Input: tf.Tensor(\n",
      "[[4.9200354  4.1594877  0.15996099]\n",
      " [0.17104864 3.8494146  4.5375834 ]\n",
      " [3.0904114  8.937246   6.2552547 ]], shape=(3, 3), dtype=float32)\n",
      "Output: tf.Tensor(\n",
      "[[ 1.1211212  -0.6394283  -1.3602844 ]\n",
      " [-1.3068336  -0.7725641   0.3454902 ]\n",
      " [ 0.18571232  1.4119927   1.0147942 ]], shape=(3, 3), dtype=float32)\n",
      "Expected: tf.Tensor(\n",
      "[[ 1.1211214  -0.6394284  -1.3602844 ]\n",
      " [-1.3068336  -0.7725642   0.3454901 ]\n",
      " [ 0.18571234  1.4119925   1.0147942 ]], shape=(3, 3), dtype=float32)\n"
     ]
    }
   ],
   "source": [
    "import layers_keras\n",
    "\n",
    "random_input = tf.random.uniform((3,3), 0, 10, dtype=tf.float32)\n",
    "print(\"Input:\", random_input)\n",
    "\n",
    "batch_norm = layers_keras.BatchNormalization()\n",
    "print(\"Output:\", batch_norm(random_input, training=True))\n",
    "\n",
    "batch_norm = tf.keras.layers.BatchNormalization()\n",
    "print('Expected:', batch_norm(random_input, training=True))"
   ]
  },
  {
   "cell_type": "markdown",
   "metadata": {},
   "source": [
    "### Dropout"
   ]
  },
  {
   "cell_type": "markdown",
   "metadata": {},
   "source": [
    "Use the below code block to confirm that your custom implementation of Dropout runs without erroring. This does not guarantee that your forward pass or input gradients calculations are correct. It serves only as a preliminary check."
   ]
  },
  {
   "cell_type": "code",
   "execution_count": null,
   "metadata": {},
   "outputs": [
    {
     "name": "stdout",
     "output_type": "stream",
     "text": [
      "Input:\n",
      " tf.Tensor(\n",
      "[[1. 1. 1. 1. 1. 1. 1. 1. 1. 1. 1.]\n",
      " [1. 1. 1. 1. 1. 1. 1. 1. 1. 1. 1.]], shape=(2, 11), dtype=float32)\n",
      "\n",
      "Output Training:\n",
      "tf.Tensor(\n",
      "[[1.25 1.25 1.25 1.25 1.25 1.25 0.   1.25 1.25 1.25 0.  ]\n",
      " [1.25 1.25 1.25 1.25 1.25 0.   1.25 0.   0.   1.25 1.25]], shape=(2, 11), dtype=float32)\n",
      "Expected Training:\n",
      "tf.Tensor(\n",
      "[[1.25 1.25 1.25 1.25 1.25 1.25 0.   1.25 1.25 1.25 0.  ]\n",
      " [1.25 1.25 1.25 1.25 1.25 0.   1.25 0.   0.   1.25 1.25]], shape=(2, 11), dtype=float32)\n",
      "\n",
      "Output Testing:\n",
      "tf.Tensor(\n",
      "[[1. 1. 1. 1. 1. 1. 1. 1. 1. 1. 1.]\n",
      " [1. 1. 1. 1. 1. 1. 1. 1. 1. 1. 1.]], shape=(2, 11), dtype=float32)\n",
      "Expected Testing:\n",
      "tf.Tensor(\n",
      "[[1. 1. 1. 1. 1. 1. 1. 1. 1. 1. 1.]\n",
      " [1. 1. 1. 1. 1. 1. 1. 1. 1. 1. 1.]], shape=(2, 11), dtype=float32)\n"
     ]
    }
   ],
   "source": [
    "import layers_keras\n",
    "\n",
    "random_input = tf.ones((2, 11))\n",
    "print(\"Input:\\n\", random_input)\n",
    "\n",
    "seed = 8675309\n",
    "for mode_str, mode in zip(['Training', 'Testing'], [True, False]):\n",
    "    print()\n",
    "    for layer_str, layer in zip(['Output','Expected'], [layers_keras.Dropout, tf.keras.layers.Dropout]):\n",
    "        tf.random.set_seed(seed)\n",
    "        dropout_fn = layer(rate=0.2)\n",
    "        print(f'{layer_str} {mode_str}:')\n",
    "        print(dropout_fn(random_input, training=mode))\n",
    "\n",
    "# Expected: Around rate% of the entries should be zeros in training mode.\n",
    "#   Should also be normalized such that, on average, magnitude perserved."
   ]
  },
  {
   "cell_type": "markdown",
   "metadata": {},
   "source": [
    "### Training your model\n",
    "Now, let's see if your model works with the new components in place?"
   ]
  },
  {
   "cell_type": "code",
   "execution_count": null,
   "metadata": {},
   "outputs": [
    {
     "ename": "ValueError",
     "evalue": "not enough values to unpack (expected 7, got 4)",
     "output_type": "error",
     "traceback": [
      "\u001b[0;31m---------------------------------------------------------------------------\u001b[0m",
      "\u001b[0;31mValueError\u001b[0m                                Traceback (most recent call last)",
      "Cell \u001b[0;32mIn [51], line 6\u001b[0m\n\u001b[1;32m      1\u001b[0m \u001b[39mimport\u001b[39;00m \u001b[39massignment\u001b[39;00m \n\u001b[1;32m      3\u001b[0m \u001b[39m# assignment.run_task(data, 2, 1, epochs=2)   ## Just manual conv\u001b[39;00m\n\u001b[1;32m      4\u001b[0m \u001b[39m# assignment.run_task(data, 2, 2, epochs=2)   ## Just manual bnorm\u001b[39;00m\n\u001b[1;32m      5\u001b[0m \u001b[39m# assignment.run_task(data, 2, 3, epochs=2)   ## Just manual dropout\u001b[39;00m\n\u001b[0;32m----> 6\u001b[0m assignment\u001b[39m.\u001b[39;49mrun_task(data, \u001b[39m2\u001b[39;49m, epochs\u001b[39m=\u001b[39;49m\u001b[39m2\u001b[39;49m)\n",
      "File \u001b[0;32m~/Desktop/files/brown-cs/cs1470/soccer-image-captioning/hw3/code/assignment.py:120\u001b[0m, in \u001b[0;36mrun_task\u001b[0;34m(data, task, subtask, epochs, batch_size)\u001b[0m\n\u001b[1;32m    117\u001b[0m \u001b[39mimport\u001b[39;00m \u001b[39mlayers_manual\u001b[39;00m  \u001b[39m## Where your manual non-diffable conv implementation resides\u001b[39;00m\n\u001b[1;32m    119\u001b[0m \u001b[39m## Retrieve data from tuple\u001b[39;00m\n\u001b[0;32m--> 120\u001b[0m X0, Y0, X1, Y1, D0, D1, D_info \u001b[39m=\u001b[39m data\n\u001b[1;32m    122\u001b[0m subtask \u001b[39m=\u001b[39m [\u001b[39m1\u001b[39m, \u001b[39m2\u001b[39m, \u001b[39m3\u001b[39m] \u001b[39mif\u001b[39;00m subtask \u001b[39m==\u001b[39m \u001b[39m\"\u001b[39m\u001b[39mall\u001b[39m\u001b[39m\"\u001b[39m \u001b[39melse\u001b[39;00m [\u001b[39mint\u001b[39m(subtask)]\n\u001b[1;32m    124\u001b[0m \u001b[39m## Get a working model with regular tf.keras.layers components\u001b[39;00m\n\u001b[1;32m    125\u001b[0m \u001b[39m## when task = 1.\u001b[39;00m\n",
      "\u001b[0;31mValueError\u001b[0m: not enough values to unpack (expected 7, got 4)"
     ]
    }
   ],
   "source": [
    "import assignment \n",
    "\n",
    "# assignment.run_task(data, 2, 1, epochs=2)   ## Just manual conv\n",
    "# assignment.run_task(data, 2, 2, epochs=2)   ## Just manual bnorm\n",
    "# assignment.run_task(data, 2, 3, epochs=2)   ## Just manual dropout\n",
    "assignment.run_task(data, 2, epochs=2)        ## Test all 3!"
   ]
  },
  {
   "cell_type": "markdown",
   "metadata": {},
   "source": [
    "## Manual Convolution!\n",
    "\n",
    "Now, go ahead and implement convolution manually! This should be done inside of the `layers_manual.py` file. It's very non-trivial to perform convolution differentiably without using `tf.nn.convolution`, so the manual convolution should only run during inference time. Below is a quick test to see if your convolution is consistent with the Keras layered version:"
   ]
  },
  {
   "cell_type": "code",
   "execution_count": 52,
   "metadata": {},
   "outputs": [
    {
     "name": "stdout",
     "output_type": "stream",
     "text": [
      "Output: tf.Tensor(\n",
      "[[[[ 4.985508  ]\n",
      "   [ 0.72873664]]\n",
      "\n",
      "  [[ 3.8827434 ]\n",
      "   [-1.1475484 ]]]\n",
      "\n",
      "\n",
      " [[[-3.088588  ]\n",
      "   [-1.837323  ]]\n",
      "\n",
      "  [[-5.2728376 ]\n",
      "   [ 0.12673473]]]], shape=(2, 2, 2, 1), dtype=float32)\n",
      "Expected: tf.Tensor(\n",
      "[[[[ 4.9855075 ]\n",
      "   [ 0.72873664]]\n",
      "\n",
      "  [[ 3.8827434 ]\n",
      "   [-1.1475487 ]]]\n",
      "\n",
      "\n",
      " [[[-3.0885882 ]\n",
      "   [-1.8373222 ]]\n",
      "\n",
      "  [[-5.272838  ]\n",
      "   [ 0.12673473]]]], shape=(2, 2, 2, 1), dtype=float32)\n"
     ]
    }
   ],
   "source": [
    "import layers_manual\n",
    "\n",
    "random_input = tf.random.uniform((2, 4, 4, 3), 0, 10, dtype=tf.float32)\n",
    "\n",
    "seed = 8675309\n",
    "tf.random.set_seed(seed)\n",
    "conv_layer = layers_manual.Conv2D(1, (2, 2), strides=2, padding='valid')\n",
    "print(\"Output:\", conv_layer(random_input, training=False))\n",
    "\n",
    "tf.random.set_seed(seed)\n",
    "conv_layer = tf.keras.layers.Conv2D(1, (2, 2), strides=2, padding='valid')\n",
    "print('Expected:', conv_layer(random_input, training=False))"
   ]
  },
  {
   "cell_type": "markdown",
   "metadata": {},
   "source": [
    "Inside the loop, this will happen at the end of every epoch because a validation set is being evaluated alongside your training set. The following will test it out for you! Don't worry if your categorical accuracy looks low here. As long as everything works without erroring, feel free to move on and test the whole model together."
   ]
  },
  {
   "cell_type": "code",
   "execution_count": 53,
   "metadata": {},
   "outputs": [
    {
     "ename": "ValueError",
     "evalue": "not enough values to unpack (expected 7, got 4)",
     "output_type": "error",
     "traceback": [
      "\u001b[0;31m---------------------------------------------------------------------------\u001b[0m",
      "\u001b[0;31mValueError\u001b[0m                                Traceback (most recent call last)",
      "Cell \u001b[0;32mIn [53], line 3\u001b[0m\n\u001b[1;32m      1\u001b[0m \u001b[39mimport\u001b[39;00m \u001b[39massignment\u001b[39;00m \n\u001b[0;32m----> 3\u001b[0m assignment\u001b[39m.\u001b[39;49mrun_task(data, \u001b[39m3\u001b[39;49m, epochs\u001b[39m=\u001b[39;49m\u001b[39m5\u001b[39;49m)\n",
      "File \u001b[0;32m~/Desktop/files/brown-cs/cs1470/soccer-image-captioning/hw3/code/assignment.py:120\u001b[0m, in \u001b[0;36mrun_task\u001b[0;34m(data, task, subtask, epochs, batch_size)\u001b[0m\n\u001b[1;32m    117\u001b[0m \u001b[39mimport\u001b[39;00m \u001b[39mlayers_manual\u001b[39;00m  \u001b[39m## Where your manual non-diffable conv implementation resides\u001b[39;00m\n\u001b[1;32m    119\u001b[0m \u001b[39m## Retrieve data from tuple\u001b[39;00m\n\u001b[0;32m--> 120\u001b[0m X0, Y0, X1, Y1, D0, D1, D_info \u001b[39m=\u001b[39m data\n\u001b[1;32m    122\u001b[0m subtask \u001b[39m=\u001b[39m [\u001b[39m1\u001b[39m, \u001b[39m2\u001b[39m, \u001b[39m3\u001b[39m] \u001b[39mif\u001b[39;00m subtask \u001b[39m==\u001b[39m \u001b[39m\"\u001b[39m\u001b[39mall\u001b[39m\u001b[39m\"\u001b[39m \u001b[39melse\u001b[39;00m [\u001b[39mint\u001b[39m(subtask)]\n\u001b[1;32m    124\u001b[0m \u001b[39m## Get a working model with regular tf.keras.layers components\u001b[39;00m\n\u001b[1;32m    125\u001b[0m \u001b[39m## when task = 1.\u001b[39;00m\n",
      "\u001b[0;31mValueError\u001b[0m: not enough values to unpack (expected 7, got 4)"
     ]
    }
   ],
   "source": [
    "import assignment \n",
    "\n",
    "assignment.run_task(data, 3, epochs=5)"
   ]
  },
  {
   "cell_type": "markdown",
   "metadata": {},
   "source": [
    "## Wrapping Up\n",
    "\n",
    "Make sure your model runs and trains up to standards! When you find a model configuration that you like, feel free to update your `get_default_CNN_model` function so that the autograder can use it with your arguments. If your model takes too long to train (> 10 mins), the autograder may time out, so take consideration of that. "
   ]
  },
  {
   "cell_type": "code",
   "execution_count": 54,
   "metadata": {},
   "outputs": [],
   "source": [
    "## Run at least once\n",
    "from types import SimpleNamespace\n",
    "from conv_model import CustomSequential"
   ]
  },
  {
   "cell_type": "markdown",
   "metadata": {},
   "source": [
    "For convenience, you can copy your code here for quick testing!\n",
    "\n",
    "Make sure to put it back into your `conv_model.py` file for the autograder!"
   ]
  },
  {
   "cell_type": "code",
   "execution_count": 55,
   "metadata": {},
   "outputs": [],
   "source": [
    "def get_default_CNN_model(\n",
    "    conv_ns=tf.keras.layers,\n",
    "    norm_ns=tf.keras.layers,\n",
    "    drop_ns=tf.keras.layers,\n",
    "    man_conv_ns=tf.keras.layers,\n",
    "):\n",
    "    return None"
   ]
  },
  {
   "cell_type": "code",
   "execution_count": 56,
   "metadata": {},
   "outputs": [
    {
     "ename": "AttributeError",
     "evalue": "'NoneType' object has no attribute 'model'",
     "output_type": "error",
     "traceback": [
      "\u001b[0;31m---------------------------------------------------------------------------\u001b[0m",
      "\u001b[0;31mAttributeError\u001b[0m                            Traceback (most recent call last)",
      "Cell \u001b[0;32mIn [56], line 13\u001b[0m\n\u001b[1;32m      4\u001b[0m man_conv_ns \u001b[39m=\u001b[39m tf\u001b[39m.\u001b[39mkeras\u001b[39m.\u001b[39mlayers\n\u001b[1;32m      6\u001b[0m args \u001b[39m=\u001b[39m get_default_CNN_model(\n\u001b[1;32m      7\u001b[0m     conv_ns\u001b[39m=\u001b[39mconv_ns, \n\u001b[1;32m      8\u001b[0m     norm_ns\u001b[39m=\u001b[39mnorm_ns, \n\u001b[1;32m      9\u001b[0m     drop_ns\u001b[39m=\u001b[39mdrop_ns, \n\u001b[1;32m     10\u001b[0m     man_conv_ns\u001b[39m=\u001b[39mman_conv_ns\n\u001b[1;32m     11\u001b[0m )\n\u001b[0;32m---> 13\u001b[0m history \u001b[39m=\u001b[39m args\u001b[39m.\u001b[39;49mmodel\u001b[39m.\u001b[39mfit(\n\u001b[1;32m     14\u001b[0m     X0,\n\u001b[1;32m     15\u001b[0m     Y0,\n\u001b[1;32m     16\u001b[0m     epochs\u001b[39m=\u001b[39margs\u001b[39m.\u001b[39mepochs,\n\u001b[1;32m     17\u001b[0m     batch_size\u001b[39m=\u001b[39margs\u001b[39m.\u001b[39mbatch_size,\n\u001b[1;32m     18\u001b[0m     validation_data\u001b[39m=\u001b[39m(X1, Y1),\n\u001b[1;32m     19\u001b[0m )\n",
      "\u001b[0;31mAttributeError\u001b[0m: 'NoneType' object has no attribute 'model'"
     ]
    }
   ],
   "source": [
    "conv_ns = tf.keras.layers\n",
    "norm_ns = tf.keras.layers\n",
    "drop_ns = tf.keras.layers\n",
    "man_conv_ns = tf.keras.layers\n",
    "\n",
    "args = get_default_CNN_model(\n",
    "    conv_ns=conv_ns, \n",
    "    norm_ns=norm_ns, \n",
    "    drop_ns=drop_ns, \n",
    "    man_conv_ns=man_conv_ns\n",
    ")\n",
    "\n",
    "history = args.model.fit(\n",
    "    X0,\n",
    "    Y0,\n",
    "    epochs=args.epochs,\n",
    "    batch_size=args.batch_size,\n",
    "    validation_data=(X1, Y1),\n",
    ")"
   ]
  },
  {
   "cell_type": "markdown",
   "metadata": {},
   "source": [
    "### Sanity Checks\n",
    "\n",
    "In case you need them!"
   ]
  },
  {
   "cell_type": "code",
   "execution_count": 57,
   "metadata": {},
   "outputs": [
    {
     "ename": "NameError",
     "evalue": "name 'cnn_model' is not defined",
     "output_type": "error",
     "traceback": [
      "\u001b[0;31m---------------------------------------------------------------------------\u001b[0m",
      "\u001b[0;31mNameError\u001b[0m                                 Traceback (most recent call last)",
      "Cell \u001b[0;32mIn [57], line 1\u001b[0m\n\u001b[0;32m----> 1\u001b[0m P1 \u001b[39m=\u001b[39m np\u001b[39m.\u001b[39margmax(cnn_model\u001b[39m.\u001b[39mpredict(X1), \u001b[39m-\u001b[39m\u001b[39m1\u001b[39m)\n\u001b[1;32m      2\u001b[0m confusion_mtx \u001b[39m=\u001b[39m tf\u001b[39m.\u001b[39mmath\u001b[39m.\u001b[39mconfusion_matrix(P1, Y1)\n\u001b[1;32m      4\u001b[0m P0 \u001b[39m=\u001b[39m np\u001b[39m.\u001b[39margmax(cnn_model\u001b[39m.\u001b[39mpredict(X0), \u001b[39m-\u001b[39m\u001b[39m1\u001b[39m)\n",
      "\u001b[0;31mNameError\u001b[0m: name 'cnn_model' is not defined"
     ]
    }
   ],
   "source": [
    "P1 = np.argmax(cnn_model.predict(X1), -1)\n",
    "confusion_mtx = tf.math.confusion_matrix(P1, Y1)\n",
    "\n",
    "P0 = np.argmax(cnn_model.predict(X0), -1)\n",
    "confusion_mtx = tf.math.confusion_matrix(P0, Y0)\n",
    "plt.figure(figsize=(12, 9))\n",
    "plt.imshow(confusion_mtx, cmap='hot', interpolation='nearest')"
   ]
  },
  {
   "cell_type": "code",
   "execution_count": 58,
   "metadata": {},
   "outputs": [
    {
     "ename": "NameError",
     "evalue": "name 'cnn_model' is not defined",
     "output_type": "error",
     "traceback": [
      "\u001b[0;31m---------------------------------------------------------------------------\u001b[0m",
      "\u001b[0;31mNameError\u001b[0m                                 Traceback (most recent call last)",
      "Cell \u001b[0;32mIn [58], line 1\u001b[0m\n\u001b[0;32m----> 1\u001b[0m P1 \u001b[39m=\u001b[39m np\u001b[39m.\u001b[39margmax(cnn_model\u001b[39m.\u001b[39mpredict(X1), \u001b[39m-\u001b[39m\u001b[39m1\u001b[39m)\n\u001b[1;32m      2\u001b[0m confusion_mtx \u001b[39m=\u001b[39m tf\u001b[39m.\u001b[39mmath\u001b[39m.\u001b[39mconfusion_matrix(P1, Y1)\n\u001b[1;32m      3\u001b[0m plt\u001b[39m.\u001b[39mfigure(figsize\u001b[39m=\u001b[39m(\u001b[39m12\u001b[39m, \u001b[39m9\u001b[39m))\n",
      "\u001b[0;31mNameError\u001b[0m: name 'cnn_model' is not defined"
     ]
    }
   ],
   "source": [
    "P1 = np.argmax(cnn_model.predict(X1), -1)\n",
    "confusion_mtx = tf.math.confusion_matrix(P1, Y1)\n",
    "plt.figure(figsize=(12, 9))\n",
    "plt.imshow(confusion_mtx, cmap='hot', interpolation='nearest')"
   ]
  },
  {
   "cell_type": "code",
   "execution_count": 59,
   "metadata": {},
   "outputs": [
    {
     "ename": "NameError",
     "evalue": "name 'cnn_model' is not defined",
     "output_type": "error",
     "traceback": [
      "\u001b[0;31m---------------------------------------------------------------------------\u001b[0m",
      "\u001b[0;31mNameError\u001b[0m                                 Traceback (most recent call last)",
      "Cell \u001b[0;32mIn [59], line 4\u001b[0m\n\u001b[1;32m      1\u001b[0m fig, ax \u001b[39m=\u001b[39m plt\u001b[39m.\u001b[39msubplots(\u001b[39m2\u001b[39m, \u001b[39m10\u001b[39m)\n\u001b[1;32m      2\u001b[0m fig\u001b[39m.\u001b[39mset_size_inches(\u001b[39m24\u001b[39m, \u001b[39m8\u001b[39m)\n\u001b[0;32m----> 4\u001b[0m pred0 \u001b[39m=\u001b[39m cnn_model\u001b[39m.\u001b[39mpredict(X0[:\u001b[39m10\u001b[39m])\n\u001b[1;32m      5\u001b[0m pred1 \u001b[39m=\u001b[39m cnn_model\u001b[39m.\u001b[39mpredict(X1[:\u001b[39m10\u001b[39m])\n\u001b[1;32m      7\u001b[0m \u001b[39mdef\u001b[39;00m \u001b[39mp2l\u001b[39m(pred):\n",
      "\u001b[0;31mNameError\u001b[0m: name 'cnn_model' is not defined"
     ]
    },
    {
     "data": {
      "image/png": "[encoded data removed]",
      "text/plain": [
       "<Figure size 2400x800 with 20 Axes>"
      ]
     },
     "metadata": {},
     "output_type": "display_data"
    }
   ],
   "source": [
    "fig, ax = plt.subplots(2, 10)\n",
    "fig.set_size_inches(24, 8)\n",
    "\n",
    "pred0 = cnn_model.predict(X0[:10])\n",
    "pred1 = cnn_model.predict(X1[:10])\n",
    "\n",
    "def p2l(pred):\n",
    "    return D_info.features['label']._int2str[pred]\n",
    "\n",
    "for i in range(10):\n",
    "    ax[0][i].imshow(X0[i], cmap = \"Greys\")\n",
    "    ax[1][i].imshow(X1[i], cmap = \"Greys\")\n",
    "    ax[1][i].tick_params(left=False, bottom=False, labelleft=False, labelbottom=False)\n",
    "    ax[0][i].set_xlabel(f\"Pred {p2l(np.argmax(pred0[i], -1))} | {p2l(Y0[i])}\")    \n",
    "    ax[1][i].set_xlabel(f\"Pred {p2l(np.argmax(pred1[i], -1))} | {p2l(Y1[i])}\")"
   ]
  },
  {
   "cell_type": "code",
   "execution_count": null,
   "metadata": {},
   "outputs": [
    {
     "ename": "",
     "evalue": "",
     "output_type": "error",
     "traceback": [
      "\u001b[1;31mRunning cells with 'Python 3.10.4 64-bit' requires ipykernel package.\n",
      "\u001b[1;31mRun the following command to install 'ipykernel' into the Python environment. \n",
      "\u001b[1;31mCommand: '/usr/local/bin/python3 -m pip install ipykernel -U --user --force-reinstall'"
     ]
    }
   ],
   "source": []
  },
  {
   "cell_type": "code",
   "execution_count": null,
   "metadata": {},
   "outputs": [
    {
     "ename": "",
     "evalue": "",
     "output_type": "error",
     "traceback": [
      "\u001b[1;31mRunning cells with 'Python 3.10.4 64-bit' requires ipykernel package.\n",
      "\u001b[1;31mRun the following command to install 'ipykernel' into the Python environment. \n",
      "\u001b[1;31mCommand: '/usr/local/bin/python3 -m pip install ipykernel -U --user --force-reinstall'"
     ]
    }
   ],
   "source": []
  },
  {
   "cell_type": "code",
   "execution_count": null,
   "metadata": {},
   "outputs": [
    {
     "ename": "",
     "evalue": "",
     "output_type": "error",
     "traceback": [
      "\u001b[1;31mRunning cells with 'Python 3.10.4 64-bit' requires ipykernel package.\n",
      "\u001b[1;31mRun the following command to install 'ipykernel' into the Python environment. \n",
      "\u001b[1;31mCommand: '/usr/local/bin/python3 -m pip install ipykernel -U --user --force-reinstall'"
     ]
    }
   ],
   "source": []
  },
  {
   "cell_type": "code",
   "execution_count": null,
   "metadata": {},
   "outputs": [
    {
     "ename": "",
     "evalue": "",
     "output_type": "error",
     "traceback": [
      "\u001b[1;31mRunning cells with 'Python 3.10.4 64-bit' requires ipykernel package.\n",
      "\u001b[1;31mRun the following command to install 'ipykernel' into the Python environment. \n",
      "\u001b[1;31mCommand: '/usr/local/bin/python3 -m pip install ipykernel -U --user --force-reinstall'"
     ]
    }
   ],
   "source": []
  },
  {
   "cell_type": "code",
   "execution_count": null,
   "metadata": {},
   "outputs": [
    {
     "ename": "",
     "evalue": "",
     "output_type": "error",
     "traceback": [
      "\u001b[1;31mRunning cells with 'Python 3.10.4 64-bit' requires ipykernel package.\n",
      "\u001b[1;31mRun the following command to install 'ipykernel' into the Python environment. \n",
      "\u001b[1;31mCommand: '/usr/local/bin/python3 -m pip install ipykernel -U --user --force-reinstall'"
     ]
    }
   ],
   "source": []
  },
  {
   "cell_type": "code",
   "execution_count": null,
   "metadata": {},
   "outputs": [
    {
     "ename": "",
     "evalue": "",
     "output_type": "error",
     "traceback": [
      "\u001b[1;31mRunning cells with 'Python 3.10.4 64-bit' requires ipykernel package.\n",
      "\u001b[1;31mRun the following command to install 'ipykernel' into the Python environment. \n",
      "\u001b[1;31mCommand: '/usr/local/bin/python3 -m pip install ipykernel -U --user --force-reinstall'"
     ]
    }
   ],
   "source": []
  }
 ],
 "metadata": {
  "colab": {
   "collapsed_sections": [],
   "name": "HW3_CNN.ipynb",
   "provenance": []
  },
  "kernelspec": {
   "display_name": "Python 3.9.13 ('dl3')",
   "language": "python",
   "name": "python3"
  },
  "language_info": {
   "codemirror_mode": {
    "name": "ipython",
    "version": 3
   },
   "file_extension": ".py",
   "mimetype": "text/x-python",
   "name": "python",
   "nbconvert_exporter": "python",
   "pygments_lexer": "ipython3",
   "version": "3.9.13"
  },
  "vscode": {
   "interpreter": {
    "hash": "bf7a4adada654fdb7d48a64219a06f7b72cdddefeefb2f661c8b5c7b19971a2c"
   }
  }
 },
 "nbformat": 4,
 "nbformat_minor": 4
}
