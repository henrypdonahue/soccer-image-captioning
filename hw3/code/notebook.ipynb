{
 "cells": [
  {
   "cell_type": "markdown",
   "metadata": {
    "id": "mqtgqmuWD0hZ"
   },
   "source": [
    "# 1470 final project notebook"
   ]
  },
  {
   "cell_type": "code",
   "execution_count": 2,
   "metadata": {
    "colab": {
     "base_uri": "https://localhost:8080/"
    },
    "id": "3uspvkrjEIaJ",
    "outputId": "9ae97a9e-721e-47e5-96f2-26c50a73256b"
   },
   "outputs": [
    {
     "name": "stdout",
     "output_type": "stream",
     "text": [
      "Python 3.9.10 (v3.9.10:f2f3f53782, Jan 13 2022, 17:02:14) \n",
      "[Clang 6.0 (clang-600.0.57)]\n"
     ]
    }
   ],
   "source": [
    "!python3 -VV"
   ]
  },
  {
   "cell_type": "markdown",
   "metadata": {
    "id": "EJJyIWTV9Yo_"
   },
   "source": [
    "Package Imports"
   ]
  },
  {
   "cell_type": "code",
   "execution_count": 3,
   "metadata": {
    "id": "Y7s9UO2FGug0"
   },
   "outputs": [
    {
     "name": "stderr",
     "output_type": "stream",
     "text": [
      "/Library/Frameworks/Python.framework/Versions/3.9/lib/python3.9/site-packages/tqdm/auto.py:22: TqdmWarning: IProgress not found. Please update jupyter and ipywidgets. See https://ipywidgets.readthedocs.io/en/stable/user_install.html\n",
      "  from .autonotebook import tqdm as notebook_tqdm\n"
     ]
    }
   ],
   "source": [
    "import numpy as np\n",
    "import matplotlib.pyplot as plt\n",
    "import matplotlib as mpl\n",
    "import tensorflow as tf\n",
    "import tensorflow_datasets as tfds"
   ]
  },
  {
   "cell_type": "markdown",
   "metadata": {
    "id": "8x8EOJ099bO5"
   },
   "source": [
    "Code Imports"
   ]
  },
  {
   "cell_type": "code",
   "execution_count": 4,
   "metadata": {
    "id": "6DRRrF7J9kma"
   },
   "outputs": [],
   "source": [
    "%load_ext autoreload\n",
    "%autoreload 2\n",
    "import   assignment, conv_model, layers_keras, layers_manual\n",
    "%aimport assignment, conv_model, layers_keras, layers_manual"
   ]
  },
  {
   "cell_type": "markdown",
   "metadata": {
    "id": "iji6pCKuut8R"
   },
   "source": [
    "Data Pathing"
   ]
  },
  {
   "cell_type": "markdown",
   "metadata": {
    "id": "eehxvvoS-bP4"
   },
   "source": [
    "## Data Preprocessing: IAUFD !"
   ]
  },
  {
   "cell_type": "code",
   "execution_count": 63,
   "metadata": {
    "colab": {
     "base_uri": "https://localhost:8080/",
     "height": 124
    },
    "id": "fl_FtgmC-fxl",
    "outputId": "aee17b99-97ea-483e-ddd2-3f57a53cfa1a"
   },
   "outputs": [],
   "source": [
    "#data = assignment.get_data()\n",
    "#X0, Y0, X1, Y1, D0, D1, D_info = data"
   ]
  },
  {
   "cell_type": "code",
   "execution_count": 5,
   "metadata": {},
   "outputs": [
    {
     "ename": "UnidentifiedImageError",
     "evalue": "cannot identify image file '../data/imagesLocal/.DS_Store'",
     "output_type": "error",
     "traceback": [
      "\u001b[0;31m---------------------------------------------------------------------------\u001b[0m",
      "\u001b[0;31mUnidentifiedImageError\u001b[0m                    Traceback (most recent call last)",
      "\u001b[1;32m/Users/amolsanghera/Desktop/CS1470/soccer-image-captioning/hw3/code/notebook.ipynb Cell 10\u001b[0m in \u001b[0;36m<cell line: 1>\u001b[0;34m()\u001b[0m\n\u001b[0;32m----> <a href='vscode-notebook-cell:/Users/amolsanghera/Desktop/CS1470/soccer-image-captioning/hw3/code/notebook.ipynb#X12sZmlsZQ%3D%3D?line=0'>1</a>\u001b[0m data \u001b[39m=\u001b[39m assignment\u001b[39m.\u001b[39;49mdivide_data()\n\u001b[1;32m      <a href='vscode-notebook-cell:/Users/amolsanghera/Desktop/CS1470/soccer-image-captioning/hw3/code/notebook.ipynb#X12sZmlsZQ%3D%3D?line=1'>2</a>\u001b[0m X0, Y0, X1, Y1 \u001b[39m=\u001b[39m data\n",
      "File \u001b[0;32m~/Desktop/CS1470/soccer-image-captioning/hw3/code/assignment.py:46\u001b[0m, in \u001b[0;36mdivide_data\u001b[0;34m()\u001b[0m\n\u001b[1;32m     44\u001b[0m \u001b[39mdef\u001b[39;00m \u001b[39mdivide_data\u001b[39m():\n\u001b[1;32m     45\u001b[0m     labels \u001b[39m=\u001b[39m preprocess_labels()\n\u001b[0;32m---> 46\u001b[0m     images \u001b[39m=\u001b[39m images_in_array()\n\u001b[1;32m     49\u001b[0m     X0 \u001b[39m=\u001b[39m images[\u001b[39m0\u001b[39m:\u001b[39m10\u001b[39m]\n\u001b[1;32m     50\u001b[0m     Y0 \u001b[39m=\u001b[39m labels[\u001b[39m0\u001b[39m:\u001b[39m10\u001b[39m]\n",
      "File \u001b[0;32m~/Desktop/CS1470/soccer-image-captioning/hw3/code/assignment.py:33\u001b[0m, in \u001b[0;36mimages_in_array\u001b[0;34m()\u001b[0m\n\u001b[1;32m     30\u001b[0m \u001b[39mdef\u001b[39;00m \u001b[39mimages_in_array\u001b[39m():\n\u001b[1;32m     31\u001b[0m     image_folder_path \u001b[39m=\u001b[39m \u001b[39m\"\u001b[39m\u001b[39m../data/imagesLocal/\u001b[39m\u001b[39m\"\u001b[39m\n\u001b[0;32m---> 33\u001b[0m     images \u001b[39m=\u001b[39m [imread(os\u001b[39m.\u001b[39mpath\u001b[39m.\u001b[39mjoin(image_folder_path, f)) \u001b[39mfor\u001b[39;00m f \u001b[39min\u001b[39;00m os\u001b[39m.\u001b[39mlistdir(image_folder_path)]\n\u001b[1;32m     34\u001b[0m     \u001b[39mif\u001b[39;00m image_folder_path \u001b[39m+\u001b[39m \u001b[39m'\u001b[39m\u001b[39m.DS_Store\u001b[39m\u001b[39m'\u001b[39m \u001b[39min\u001b[39;00m images:\n\u001b[1;32m     35\u001b[0m         images\u001b[39m.\u001b[39mremove(image_folder_path \u001b[39m+\u001b[39m \u001b[39m'\u001b[39m\u001b[39m.DS_Store\u001b[39m\u001b[39m'\u001b[39m)\n",
      "File \u001b[0;32m~/Desktop/CS1470/soccer-image-captioning/hw3/code/assignment.py:33\u001b[0m, in \u001b[0;36m<listcomp>\u001b[0;34m(.0)\u001b[0m\n\u001b[1;32m     30\u001b[0m \u001b[39mdef\u001b[39;00m \u001b[39mimages_in_array\u001b[39m():\n\u001b[1;32m     31\u001b[0m     image_folder_path \u001b[39m=\u001b[39m \u001b[39m\"\u001b[39m\u001b[39m../data/imagesLocal/\u001b[39m\u001b[39m\"\u001b[39m\n\u001b[0;32m---> 33\u001b[0m     images \u001b[39m=\u001b[39m [imread(os\u001b[39m.\u001b[39;49mpath\u001b[39m.\u001b[39;49mjoin(image_folder_path, f)) \u001b[39mfor\u001b[39;00m f \u001b[39min\u001b[39;00m os\u001b[39m.\u001b[39mlistdir(image_folder_path)]\n\u001b[1;32m     34\u001b[0m     \u001b[39mif\u001b[39;00m image_folder_path \u001b[39m+\u001b[39m \u001b[39m'\u001b[39m\u001b[39m.DS_Store\u001b[39m\u001b[39m'\u001b[39m \u001b[39min\u001b[39;00m images:\n\u001b[1;32m     35\u001b[0m         images\u001b[39m.\u001b[39mremove(image_folder_path \u001b[39m+\u001b[39m \u001b[39m'\u001b[39m\u001b[39m.DS_Store\u001b[39m\u001b[39m'\u001b[39m)\n",
      "File \u001b[0;32m/Library/Frameworks/Python.framework/Versions/3.9/lib/python3.9/site-packages/matplotlib/pyplot.py:2111\u001b[0m, in \u001b[0;36mimread\u001b[0;34m(fname, format)\u001b[0m\n\u001b[1;32m   2109\u001b[0m \u001b[39m@_copy_docstring_and_deprecators\u001b[39m(matplotlib\u001b[39m.\u001b[39mimage\u001b[39m.\u001b[39mimread)\n\u001b[1;32m   2110\u001b[0m \u001b[39mdef\u001b[39;00m \u001b[39mimread\u001b[39m(fname, \u001b[39mformat\u001b[39m\u001b[39m=\u001b[39m\u001b[39mNone\u001b[39;00m):\n\u001b[0;32m-> 2111\u001b[0m     \u001b[39mreturn\u001b[39;00m matplotlib\u001b[39m.\u001b[39;49mimage\u001b[39m.\u001b[39;49mimread(fname, \u001b[39mformat\u001b[39;49m)\n",
      "File \u001b[0;32m/Library/Frameworks/Python.framework/Versions/3.9/lib/python3.9/site-packages/matplotlib/image.py:1541\u001b[0m, in \u001b[0;36mimread\u001b[0;34m(fname, format)\u001b[0m\n\u001b[1;32m   1534\u001b[0m \u001b[39mif\u001b[39;00m \u001b[39misinstance\u001b[39m(fname, \u001b[39mstr\u001b[39m) \u001b[39mand\u001b[39;00m \u001b[39mlen\u001b[39m(parse\u001b[39m.\u001b[39murlparse(fname)\u001b[39m.\u001b[39mscheme) \u001b[39m>\u001b[39m \u001b[39m1\u001b[39m:\n\u001b[1;32m   1535\u001b[0m     \u001b[39m# Pillow doesn't handle URLs directly.\u001b[39;00m\n\u001b[1;32m   1536\u001b[0m     \u001b[39mraise\u001b[39;00m \u001b[39mValueError\u001b[39;00m(\n\u001b[1;32m   1537\u001b[0m         \u001b[39m\"\u001b[39m\u001b[39mPlease open the URL for reading and pass the \u001b[39m\u001b[39m\"\u001b[39m\n\u001b[1;32m   1538\u001b[0m         \u001b[39m\"\u001b[39m\u001b[39mresult to Pillow, e.g. with \u001b[39m\u001b[39m\"\u001b[39m\n\u001b[1;32m   1539\u001b[0m         \u001b[39m\"\u001b[39m\u001b[39m``np.array(PIL.Image.open(urllib.request.urlopen(url)))``.\u001b[39m\u001b[39m\"\u001b[39m\n\u001b[1;32m   1540\u001b[0m         )\n\u001b[0;32m-> 1541\u001b[0m \u001b[39mwith\u001b[39;00m img_open(fname) \u001b[39mas\u001b[39;00m image:\n\u001b[1;32m   1542\u001b[0m     \u001b[39mreturn\u001b[39;00m (_pil_png_to_float_array(image)\n\u001b[1;32m   1543\u001b[0m             \u001b[39mif\u001b[39;00m \u001b[39misinstance\u001b[39m(image, PIL\u001b[39m.\u001b[39mPngImagePlugin\u001b[39m.\u001b[39mPngImageFile) \u001b[39melse\u001b[39;00m\n\u001b[1;32m   1544\u001b[0m             pil_to_array(image))\n",
      "File \u001b[0;32m/Library/Frameworks/Python.framework/Versions/3.9/lib/python3.9/site-packages/PIL/Image.py:3123\u001b[0m, in \u001b[0;36mopen\u001b[0;34m(fp, mode, formats)\u001b[0m\n\u001b[1;32m   3121\u001b[0m \u001b[39mfor\u001b[39;00m message \u001b[39min\u001b[39;00m accept_warnings:\n\u001b[1;32m   3122\u001b[0m     warnings\u001b[39m.\u001b[39mwarn(message)\n\u001b[0;32m-> 3123\u001b[0m \u001b[39mraise\u001b[39;00m UnidentifiedImageError(\n\u001b[1;32m   3124\u001b[0m     \u001b[39m\"\u001b[39m\u001b[39mcannot identify image file \u001b[39m\u001b[39m%r\u001b[39;00m\u001b[39m\"\u001b[39m \u001b[39m%\u001b[39m (filename \u001b[39mif\u001b[39;00m filename \u001b[39melse\u001b[39;00m fp)\n\u001b[1;32m   3125\u001b[0m )\n",
      "\u001b[0;31mUnidentifiedImageError\u001b[0m: cannot identify image file '../data/imagesLocal/.DS_Store'"
     ]
    }
   ],
   "source": [
    "data = assignment.divide_data()\n",
    "X0, Y0, X1, Y1 = data"
   ]
  },
  {
   "cell_type": "code",
   "execution_count": null,
   "metadata": {},
   "outputs": [],
   "source": [
    "#print all labels\n",
    "\n"
   ]
  },
  {
   "cell_type": "markdown",
   "metadata": {},
   "source": [
    "### Augmenting train data"
   ]
  },
  {
   "cell_type": "code",
   "execution_count": 65,
   "metadata": {},
   "outputs": [
    {
     "name": "stderr",
     "output_type": "stream",
     "text": [
      "2022-12-07 15:27:03.153547: W tensorflow/core/framework/op_kernel.cc:1722] OP_REQUIRES failed at cast_op.cc:121 : UNIMPLEMENTED: Cast string to float is not supported\n"
     ]
    },
    {
     "ename": "UnimplementedError",
     "evalue": "Cast string to float is not supported [Op:Cast]",
     "output_type": "error",
     "traceback": [
      "\u001b[0;31m---------------------------------------------------------------------------\u001b[0m",
      "\u001b[0;31mUnimplementedError\u001b[0m                        Traceback (most recent call last)",
      "Cell \u001b[0;32mIn [65], line 5\u001b[0m\n\u001b[1;32m      3\u001b[0m \u001b[39m## You can use any list of 10 indices\u001b[39;00m\n\u001b[1;32m      4\u001b[0m sample_image_indices \u001b[39m=\u001b[39m [\u001b[39m0\u001b[39m, \u001b[39m1\u001b[39m, \u001b[39m2\u001b[39m, \u001b[39m3\u001b[39m, \u001b[39m4\u001b[39m, \u001b[39m5\u001b[39m, \u001b[39m6\u001b[39m, \u001b[39m7\u001b[39m, \u001b[39m8\u001b[39m, \u001b[39m9\u001b[39m]\n\u001b[0;32m----> 5\u001b[0m sample_images \u001b[39m=\u001b[39m tf\u001b[39m.\u001b[39;49mcast(tf\u001b[39m.\u001b[39;49mgather(X0, sample_image_indices), tf\u001b[39m.\u001b[39;49mfloat32)\n\u001b[1;32m      6\u001b[0m sample_labels \u001b[39m=\u001b[39m tf\u001b[39m.\u001b[39mgather(Y0, sample_image_indices)\n\u001b[1;32m      8\u001b[0m fig, ax \u001b[39m=\u001b[39m plt\u001b[39m.\u001b[39msubplots(\u001b[39m3\u001b[39m, \u001b[39m10\u001b[39m)\n",
      "File \u001b[0;32m~/miniconda3/envs/dl3/lib/python3.9/site-packages/tensorflow/python/util/traceback_utils.py:153\u001b[0m, in \u001b[0;36mfilter_traceback.<locals>.error_handler\u001b[0;34m(*args, **kwargs)\u001b[0m\n\u001b[1;32m    151\u001b[0m \u001b[39mexcept\u001b[39;00m \u001b[39mException\u001b[39;00m \u001b[39mas\u001b[39;00m e:\n\u001b[1;32m    152\u001b[0m   filtered_tb \u001b[39m=\u001b[39m _process_traceback_frames(e\u001b[39m.\u001b[39m__traceback__)\n\u001b[0;32m--> 153\u001b[0m   \u001b[39mraise\u001b[39;00m e\u001b[39m.\u001b[39mwith_traceback(filtered_tb) \u001b[39mfrom\u001b[39;00m \u001b[39mNone\u001b[39m\n\u001b[1;32m    154\u001b[0m \u001b[39mfinally\u001b[39;00m:\n\u001b[1;32m    155\u001b[0m   \u001b[39mdel\u001b[39;00m filtered_tb\n",
      "File \u001b[0;32m~/miniconda3/envs/dl3/lib/python3.9/site-packages/tensorflow/python/framework/ops.py:7107\u001b[0m, in \u001b[0;36mraise_from_not_ok_status\u001b[0;34m(e, name)\u001b[0m\n\u001b[1;32m   7105\u001b[0m \u001b[39mdef\u001b[39;00m \u001b[39mraise_from_not_ok_status\u001b[39m(e, name):\n\u001b[1;32m   7106\u001b[0m   e\u001b[39m.\u001b[39mmessage \u001b[39m+\u001b[39m\u001b[39m=\u001b[39m (\u001b[39m\"\u001b[39m\u001b[39m name: \u001b[39m\u001b[39m\"\u001b[39m \u001b[39m+\u001b[39m name \u001b[39mif\u001b[39;00m name \u001b[39mis\u001b[39;00m \u001b[39mnot\u001b[39;00m \u001b[39mNone\u001b[39;00m \u001b[39melse\u001b[39;00m \u001b[39m\"\u001b[39m\u001b[39m\"\u001b[39m)\n\u001b[0;32m-> 7107\u001b[0m   \u001b[39mraise\u001b[39;00m core\u001b[39m.\u001b[39m_status_to_exception(e) \u001b[39mfrom\u001b[39;00m \u001b[39mNone\u001b[39m\n",
      "\u001b[0;31mUnimplementedError\u001b[0m: Cast string to float is not supported [Op:Cast]"
     ]
    }
   ],
   "source": [
    "import conv_model\n",
    "\n",
    "## You can use any list of 10 indices\n",
    "sample_image_indices = [0, 1, 2, 3, 4, 5, 6, 7, 8, 9]\n",
    "sample_images = tf.cast(tf.gather(X0, sample_image_indices), tf.float32)\n",
    "sample_labels = tf.gather(Y0, sample_image_indices)\n",
    "\n",
    "fig, ax = plt.subplots(3, 10)\n",
    "fig.set_size_inches(24, 8)\n",
    "\n",
    "args = conv_model.get_default_CNN_model()\n",
    "\n",
    "preprocessed_images = args.model.input_prep_fn(sample_images)\n",
    "augmented_images = args.model.augment_fn(preprocessed_images)\n",
    "\n",
    "for i in range(10):\n",
    "    ax[0][i].imshow(sample_images[i]/255., cmap = \"Greys\")\n",
    "    ax[1][i].imshow(preprocessed_images[i], cmap = \"Greys\")\n",
    "    ax[2][i].imshow(augmented_images[i], cmap = \"Greys\")"
   ]
  },
  {
   "cell_type": "markdown",
   "metadata": {},
   "source": [
    "## Train A Basic Keras Model\n",
    "\n",
    "As part of step 2 from the handout, we just want you to construct a simple keras model to run prediction on your dataset!\n",
    "\n",
    "Implement **[TODO 2]** in `get_default_CNN_model` to return a CNN model that can train above an accuracy of 55% (note that the requirement for 1470 is 62% and for 2470, is 65% though). Feel free to play around with the number of layers, hyperparameters for layers, epochs, batch size, and anything else you can think of. \n",
    "\n",
    "**Requirements:**\n",
    "- Model must contain Conv2D, BatchNormalization, and Dropout layers. \n",
    "- These must be imported from the argument namespaces (already done by default).\n",
    "- Task 1 will automatically use `tf.keras.layers` implementations."
   ]
  },
  {
   "cell_type": "code",
   "execution_count": 45,
   "metadata": {},
   "outputs": [
    {
     "ename": "ValueError",
     "evalue": "not enough values to unpack (expected 7, got 4)",
     "output_type": "error",
     "traceback": [
      "\u001b[0;31m---------------------------------------------------------------------------\u001b[0m",
      "\u001b[0;31mValueError\u001b[0m                                Traceback (most recent call last)",
      "Cell \u001b[0;32mIn [45], line 4\u001b[0m\n\u001b[1;32m      1\u001b[0m \u001b[39mimport\u001b[39;00m \u001b[39massignment\u001b[39;00m \n\u001b[1;32m      3\u001b[0m \u001b[39m## You can test with more epochs later\u001b[39;00m\n\u001b[0;32m----> 4\u001b[0m cnn_model \u001b[39m=\u001b[39m assignment\u001b[39m.\u001b[39;49mrun_task(data, \u001b[39m1\u001b[39;49m, epochs\u001b[39m=\u001b[39;49m\u001b[39m10\u001b[39;49m, batch_size\u001b[39m=\u001b[39;49m\u001b[39m250\u001b[39;49m)\n",
      "File \u001b[0;32m~/Desktop/files/brown-cs/cs1470/soccer-image-captioning/hw3/code/assignment.py:120\u001b[0m, in \u001b[0;36mrun_task\u001b[0;34m(data, task, subtask, epochs, batch_size)\u001b[0m\n\u001b[1;32m    117\u001b[0m \u001b[39mimport\u001b[39;00m \u001b[39mlayers_manual\u001b[39;00m  \u001b[39m## Where your manual non-diffable conv implementation resides\u001b[39;00m\n\u001b[1;32m    119\u001b[0m \u001b[39m## Retrieve data from tuple\u001b[39;00m\n\u001b[0;32m--> 120\u001b[0m X0, Y0, X1, Y1, D0, D1, D_info \u001b[39m=\u001b[39m data\n\u001b[1;32m    122\u001b[0m subtask \u001b[39m=\u001b[39m [\u001b[39m1\u001b[39m, \u001b[39m2\u001b[39m, \u001b[39m3\u001b[39m] \u001b[39mif\u001b[39;00m subtask \u001b[39m==\u001b[39m \u001b[39m\"\u001b[39m\u001b[39mall\u001b[39m\u001b[39m\"\u001b[39m \u001b[39melse\u001b[39;00m [\u001b[39mint\u001b[39m(subtask)]\n\u001b[1;32m    124\u001b[0m \u001b[39m## Get a working model with regular tf.keras.layers components\u001b[39;00m\n\u001b[1;32m    125\u001b[0m \u001b[39m## when task = 1.\u001b[39;00m\n",
      "\u001b[0;31mValueError\u001b[0m: not enough values to unpack (expected 7, got 4)"
     ]
    }
   ],
   "source": [
    "import assignment \n",
    "\n",
    "## You can test with more epochs later\n",
    "cnn_model = assignment.run_task(data, 1, epochs=10, batch_size=250)"
   ]
  },
  {
   "cell_type": "code",
   "execution_count": 46,
   "metadata": {},
   "outputs": [
    {
     "ename": "ValueError",
     "evalue": "not enough values to unpack (expected 7, got 4)",
     "output_type": "error",
     "traceback": [
      "\u001b[0;31m---------------------------------------------------------------------------\u001b[0m",
      "\u001b[0;31mValueError\u001b[0m                                Traceback (most recent call last)",
      "Cell \u001b[0;32mIn [46], line 4\u001b[0m\n\u001b[1;32m      1\u001b[0m \u001b[39mimport\u001b[39;00m \u001b[39massignment\u001b[39;00m \n\u001b[1;32m      3\u001b[0m \u001b[39m## You can test with more epochs later\u001b[39;00m\n\u001b[0;32m----> 4\u001b[0m cnn_model \u001b[39m=\u001b[39m assignment\u001b[39m.\u001b[39;49mrun_task(data, \u001b[39m2\u001b[39;49m, epochs\u001b[39m=\u001b[39;49m\u001b[39m10\u001b[39;49m, batch_size\u001b[39m=\u001b[39;49m\u001b[39m100\u001b[39;49m)\n",
      "File \u001b[0;32m~/Desktop/files/brown-cs/cs1470/soccer-image-captioning/hw3/code/assignment.py:120\u001b[0m, in \u001b[0;36mrun_task\u001b[0;34m(data, task, subtask, epochs, batch_size)\u001b[0m\n\u001b[1;32m    117\u001b[0m \u001b[39mimport\u001b[39;00m \u001b[39mlayers_manual\u001b[39;00m  \u001b[39m## Where your manual non-diffable conv implementation resides\u001b[39;00m\n\u001b[1;32m    119\u001b[0m \u001b[39m## Retrieve data from tuple\u001b[39;00m\n\u001b[0;32m--> 120\u001b[0m X0, Y0, X1, Y1, D0, D1, D_info \u001b[39m=\u001b[39m data\n\u001b[1;32m    122\u001b[0m subtask \u001b[39m=\u001b[39m [\u001b[39m1\u001b[39m, \u001b[39m2\u001b[39m, \u001b[39m3\u001b[39m] \u001b[39mif\u001b[39;00m subtask \u001b[39m==\u001b[39m \u001b[39m\"\u001b[39m\u001b[39mall\u001b[39m\u001b[39m\"\u001b[39m \u001b[39melse\u001b[39;00m [\u001b[39mint\u001b[39m(subtask)]\n\u001b[1;32m    124\u001b[0m \u001b[39m## Get a working model with regular tf.keras.layers components\u001b[39;00m\n\u001b[1;32m    125\u001b[0m \u001b[39m## when task = 1.\u001b[39;00m\n",
      "\u001b[0;31mValueError\u001b[0m: not enough values to unpack (expected 7, got 4)"
     ]
    }
   ],
   "source": [
    "import assignment \n",
    "\n",
    "## You can test with more epochs later\n",
    "cnn_model = assignment.run_task(data, 2, epochs=10, batch_size=100)"
   ]
  },
  {
   "cell_type": "code",
   "execution_count": 47,
   "metadata": {},
   "outputs": [
    {
     "ename": "NameError",
     "evalue": "name 'cnn_model' is not defined",
     "output_type": "error",
     "traceback": [
      "\u001b[0;31m---------------------------------------------------------------------------\u001b[0m",
      "\u001b[0;31mNameError\u001b[0m                                 Traceback (most recent call last)",
      "Cell \u001b[0;32mIn [47], line 1\u001b[0m\n\u001b[0;32m----> 1\u001b[0m cnn_model\u001b[39m.\u001b[39msummary()\n",
      "\u001b[0;31mNameError\u001b[0m: name 'cnn_model' is not defined"
     ]
    }
   ],
   "source": [
    "cnn_model.summary()"
   ]
  },
  {
   "cell_type": "markdown",
   "metadata": {},
   "source": [
    "## Make Your Own Layers\n",
    "For steps 3, 4, and 5 from the handout, you'll need to implement the layers from scratch inside of `layers_keras.py`.\n",
    "Feel free to refer to the official documentation for how these methods are supposed to function. \n",
    "More details are included in the layer block comments, and the init methods are already provided. \n",
    "\n",
    "**Requirements**:\n",
    "- Implement Conv2D, BatchNormalization, and Dropout in `layers_keras.py`\n",
    "- Cannot use existing layers as sub-components. \n",
    "- Cannot use `tf.nn.batch_normalization` or `tf.nn.dropout`. \n",
    "- CAN use `tf.nn.convolution`...\n",
    "- Should utilize all non-commented-out arguments. "
   ]
  },
  {
   "cell_type": "markdown",
   "metadata": {},
   "source": [
    "### 2D Convolution"
   ]
  },
  {
   "cell_type": "markdown",
   "metadata": {},
   "source": [
    "Use the below code block to confirm that your custom implementation of Conv2D runs without erroring. This does not guarantee that your forward pass calculations are correct. It serves only as a preliminary check."
   ]
  },
  {
   "cell_type": "code",
   "execution_count": 48,
   "metadata": {},
   "outputs": [
    {
     "name": "stdout",
     "output_type": "stream",
     "text": [
      "Output: tf.Tensor(\n",
      "[[[[-1.3874068]\n",
      "   [ 1.8371265]]\n",
      "\n",
      "  [[ 4.395982 ]\n",
      "   [ 5.2402725]]]], shape=(1, 2, 2, 1), dtype=float32)\n",
      "Expected: tf.Tensor(\n",
      "[[[[-1.3874068]\n",
      "   [ 1.8371265]]\n",
      "\n",
      "  [[ 4.395982 ]\n",
      "   [ 5.2402725]]]], shape=(1, 2, 2, 1), dtype=float32)\n"
     ]
    }
   ],
   "source": [
    "import layers_keras\n",
    "\n",
    "random_input = tf.random.uniform((1, 4, 4, 3), 0, 10, dtype=tf.float32)\n",
    "\n",
    "seed = 8675309\n",
    "tf.random.set_seed(seed)\n",
    "conv_layer = layers_keras.Conv2D(1, 2, strides=2)\n",
    "print(\"Output:\", conv_layer(random_input, training=True))\n",
    "\n",
    "tf.random.set_seed(seed)\n",
    "conv_layer = tf.keras.layers.Conv2D(1, 2, strides=2)\n",
    "print('Expected:', conv_layer(random_input, training=True))"
   ]
  },
  {
   "cell_type": "markdown",
   "metadata": {},
   "source": [
    "### Batch Normalization"
   ]
  },
  {
   "cell_type": "markdown",
   "metadata": {},
   "source": [
    "Use the below code block to confirm that your custom implementation of Batch Normalization runs without erroring. This does not guarantee that your forward pass calculations are correct. It serves only as a preliminary check."
   ]
  },
  {
   "cell_type": "code",
   "execution_count": 49,
   "metadata": {},
   "outputs": [
    {
     "name": "stdout",
     "output_type": "stream",
     "text": [
      "Input: tf.Tensor(\n",
      "[[4.9200354  4.1594877  0.15996099]\n",
      " [0.17104864 3.8494146  4.5375834 ]\n",
      " [3.0904114  8.937246   6.2552547 ]], shape=(3, 3), dtype=float32)\n",
      "Output: tf.Tensor(\n",
      "[[ 1.1211212  -0.6394283  -1.3602844 ]\n",
      " [-1.3068336  -0.7725641   0.3454902 ]\n",
      " [ 0.18571232  1.4119927   1.0147942 ]], shape=(3, 3), dtype=float32)\n",
      "Expected: tf.Tensor(\n",
      "[[ 1.1211214  -0.6394284  -1.3602844 ]\n",
      " [-1.3068336  -0.7725642   0.3454901 ]\n",
      " [ 0.18571234  1.4119925   1.0147942 ]], shape=(3, 3), dtype=float32)\n"
     ]
    }
   ],
   "source": [
    "import layers_keras\n",
    "\n",
    "random_input = tf.random.uniform((3,3), 0, 10, dtype=tf.float32)\n",
    "print(\"Input:\", random_input)\n",
    "\n",
    "batch_norm = layers_keras.BatchNormalization()\n",
    "print(\"Output:\", batch_norm(random_input, training=True))\n",
    "\n",
    "batch_norm = tf.keras.layers.BatchNormalization()\n",
    "print('Expected:', batch_norm(random_input, training=True))"
   ]
  },
  {
   "cell_type": "markdown",
   "metadata": {},
   "source": [
    "### Dropout"
   ]
  },
  {
   "cell_type": "markdown",
   "metadata": {},
   "source": [
    "Use the below code block to confirm that your custom implementation of Dropout runs without erroring. This does not guarantee that your forward pass or input gradients calculations are correct. It serves only as a preliminary check."
   ]
  },
  {
   "cell_type": "code",
   "execution_count": 50,
   "metadata": {},
   "outputs": [
    {
     "name": "stdout",
     "output_type": "stream",
     "text": [
      "Input:\n",
      " tf.Tensor(\n",
      "[[1. 1. 1. 1. 1. 1. 1. 1. 1. 1. 1.]\n",
      " [1. 1. 1. 1. 1. 1. 1. 1. 1. 1. 1.]], shape=(2, 11), dtype=float32)\n",
      "\n",
      "Output Training:\n",
      "tf.Tensor(\n",
      "[[1.25 1.25 1.25 1.25 1.25 1.25 0.   1.25 1.25 1.25 0.  ]\n",
      " [1.25 1.25 1.25 1.25 1.25 0.   1.25 0.   0.   1.25 1.25]], shape=(2, 11), dtype=float32)\n",
      "Expected Training:\n",
      "tf.Tensor(\n",
      "[[1.25 1.25 1.25 1.25 1.25 1.25 0.   1.25 1.25 1.25 0.  ]\n",
      " [1.25 1.25 1.25 1.25 1.25 0.   1.25 0.   0.   1.25 1.25]], shape=(2, 11), dtype=float32)\n",
      "\n",
      "Output Testing:\n",
      "tf.Tensor(\n",
      "[[1. 1. 1. 1. 1. 1. 1. 1. 1. 1. 1.]\n",
      " [1. 1. 1. 1. 1. 1. 1. 1. 1. 1. 1.]], shape=(2, 11), dtype=float32)\n",
      "Expected Testing:\n",
      "tf.Tensor(\n",
      "[[1. 1. 1. 1. 1. 1. 1. 1. 1. 1. 1.]\n",
      " [1. 1. 1. 1. 1. 1. 1. 1. 1. 1. 1.]], shape=(2, 11), dtype=float32)\n"
     ]
    }
   ],
   "source": [
    "import layers_keras\n",
    "\n",
    "random_input = tf.ones((2, 11))\n",
    "print(\"Input:\\n\", random_input)\n",
    "\n",
    "seed = 8675309\n",
    "for mode_str, mode in zip(['Training', 'Testing'], [True, False]):\n",
    "    print()\n",
    "    for layer_str, layer in zip(['Output','Expected'], [layers_keras.Dropout, tf.keras.layers.Dropout]):\n",
    "        tf.random.set_seed(seed)\n",
    "        dropout_fn = layer(rate=0.2)\n",
    "        print(f'{layer_str} {mode_str}:')\n",
    "        print(dropout_fn(random_input, training=mode))\n",
    "\n",
    "# Expected: Around rate% of the entries should be zeros in training mode.\n",
    "#   Should also be normalized such that, on average, magnitude perserved."
   ]
  },
  {
   "cell_type": "markdown",
   "metadata": {},
   "source": [
    "### Training your model\n",
    "Now, let's see if your model works with the new components in place?"
   ]
  },
  {
   "cell_type": "code",
   "execution_count": 51,
   "metadata": {},
   "outputs": [
    {
     "ename": "ValueError",
     "evalue": "not enough values to unpack (expected 7, got 4)",
     "output_type": "error",
     "traceback": [
      "\u001b[0;31m---------------------------------------------------------------------------\u001b[0m",
      "\u001b[0;31mValueError\u001b[0m                                Traceback (most recent call last)",
      "Cell \u001b[0;32mIn [51], line 6\u001b[0m\n\u001b[1;32m      1\u001b[0m \u001b[39mimport\u001b[39;00m \u001b[39massignment\u001b[39;00m \n\u001b[1;32m      3\u001b[0m \u001b[39m# assignment.run_task(data, 2, 1, epochs=2)   ## Just manual conv\u001b[39;00m\n\u001b[1;32m      4\u001b[0m \u001b[39m# assignment.run_task(data, 2, 2, epochs=2)   ## Just manual bnorm\u001b[39;00m\n\u001b[1;32m      5\u001b[0m \u001b[39m# assignment.run_task(data, 2, 3, epochs=2)   ## Just manual dropout\u001b[39;00m\n\u001b[0;32m----> 6\u001b[0m assignment\u001b[39m.\u001b[39;49mrun_task(data, \u001b[39m2\u001b[39;49m, epochs\u001b[39m=\u001b[39;49m\u001b[39m2\u001b[39;49m)\n",
      "File \u001b[0;32m~/Desktop/files/brown-cs/cs1470/soccer-image-captioning/hw3/code/assignment.py:120\u001b[0m, in \u001b[0;36mrun_task\u001b[0;34m(data, task, subtask, epochs, batch_size)\u001b[0m\n\u001b[1;32m    117\u001b[0m \u001b[39mimport\u001b[39;00m \u001b[39mlayers_manual\u001b[39;00m  \u001b[39m## Where your manual non-diffable conv implementation resides\u001b[39;00m\n\u001b[1;32m    119\u001b[0m \u001b[39m## Retrieve data from tuple\u001b[39;00m\n\u001b[0;32m--> 120\u001b[0m X0, Y0, X1, Y1, D0, D1, D_info \u001b[39m=\u001b[39m data\n\u001b[1;32m    122\u001b[0m subtask \u001b[39m=\u001b[39m [\u001b[39m1\u001b[39m, \u001b[39m2\u001b[39m, \u001b[39m3\u001b[39m] \u001b[39mif\u001b[39;00m subtask \u001b[39m==\u001b[39m \u001b[39m\"\u001b[39m\u001b[39mall\u001b[39m\u001b[39m\"\u001b[39m \u001b[39melse\u001b[39;00m [\u001b[39mint\u001b[39m(subtask)]\n\u001b[1;32m    124\u001b[0m \u001b[39m## Get a working model with regular tf.keras.layers components\u001b[39;00m\n\u001b[1;32m    125\u001b[0m \u001b[39m## when task = 1.\u001b[39;00m\n",
      "\u001b[0;31mValueError\u001b[0m: not enough values to unpack (expected 7, got 4)"
     ]
    }
   ],
   "source": [
    "import assignment \n",
    "\n",
    "# assignment.run_task(data, 2, 1, epochs=2)   ## Just manual conv\n",
    "# assignment.run_task(data, 2, 2, epochs=2)   ## Just manual bnorm\n",
    "# assignment.run_task(data, 2, 3, epochs=2)   ## Just manual dropout\n",
    "assignment.run_task(data, 2, epochs=2)        ## Test all 3!"
   ]
  },
  {
   "cell_type": "markdown",
   "metadata": {},
   "source": [
    "## Manual Convolution!\n",
    "\n",
    "Now, go ahead and implement convolution manually! This should be done inside of the `layers_manual.py` file. It's very non-trivial to perform convolution differentiably without using `tf.nn.convolution`, so the manual convolution should only run during inference time. Below is a quick test to see if your convolution is consistent with the Keras layered version:"
   ]
  },
  {
   "cell_type": "code",
   "execution_count": 52,
   "metadata": {},
   "outputs": [
    {
     "name": "stdout",
     "output_type": "stream",
     "text": [
      "Output: tf.Tensor(\n",
      "[[[[ 4.985508  ]\n",
      "   [ 0.72873664]]\n",
      "\n",
      "  [[ 3.8827434 ]\n",
      "   [-1.1475484 ]]]\n",
      "\n",
      "\n",
      " [[[-3.088588  ]\n",
      "   [-1.837323  ]]\n",
      "\n",
      "  [[-5.2728376 ]\n",
      "   [ 0.12673473]]]], shape=(2, 2, 2, 1), dtype=float32)\n",
      "Expected: tf.Tensor(\n",
      "[[[[ 4.9855075 ]\n",
      "   [ 0.72873664]]\n",
      "\n",
      "  [[ 3.8827434 ]\n",
      "   [-1.1475487 ]]]\n",
      "\n",
      "\n",
      " [[[-3.0885882 ]\n",
      "   [-1.8373222 ]]\n",
      "\n",
      "  [[-5.272838  ]\n",
      "   [ 0.12673473]]]], shape=(2, 2, 2, 1), dtype=float32)\n"
     ]
    }
   ],
   "source": [
    "import layers_manual\n",
    "\n",
    "random_input = tf.random.uniform((2, 4, 4, 3), 0, 10, dtype=tf.float32)\n",
    "\n",
    "seed = 8675309\n",
    "tf.random.set_seed(seed)\n",
    "conv_layer = layers_manual.Conv2D(1, (2, 2), strides=2, padding='valid')\n",
    "print(\"Output:\", conv_layer(random_input, training=False))\n",
    "\n",
    "tf.random.set_seed(seed)\n",
    "conv_layer = tf.keras.layers.Conv2D(1, (2, 2), strides=2, padding='valid')\n",
    "print('Expected:', conv_layer(random_input, training=False))"
   ]
  },
  {
   "cell_type": "markdown",
   "metadata": {},
   "source": [
    "Inside the loop, this will happen at the end of every epoch because a validation set is being evaluated alongside your training set. The following will test it out for you! Don't worry if your categorical accuracy looks low here. As long as everything works without erroring, feel free to move on and test the whole model together."
   ]
  },
  {
   "cell_type": "code",
   "execution_count": 53,
   "metadata": {},
   "outputs": [
    {
     "ename": "ValueError",
     "evalue": "not enough values to unpack (expected 7, got 4)",
     "output_type": "error",
     "traceback": [
      "\u001b[0;31m---------------------------------------------------------------------------\u001b[0m",
      "\u001b[0;31mValueError\u001b[0m                                Traceback (most recent call last)",
      "Cell \u001b[0;32mIn [53], line 3\u001b[0m\n\u001b[1;32m      1\u001b[0m \u001b[39mimport\u001b[39;00m \u001b[39massignment\u001b[39;00m \n\u001b[0;32m----> 3\u001b[0m assignment\u001b[39m.\u001b[39;49mrun_task(data, \u001b[39m3\u001b[39;49m, epochs\u001b[39m=\u001b[39;49m\u001b[39m5\u001b[39;49m)\n",
      "File \u001b[0;32m~/Desktop/files/brown-cs/cs1470/soccer-image-captioning/hw3/code/assignment.py:120\u001b[0m, in \u001b[0;36mrun_task\u001b[0;34m(data, task, subtask, epochs, batch_size)\u001b[0m\n\u001b[1;32m    117\u001b[0m \u001b[39mimport\u001b[39;00m \u001b[39mlayers_manual\u001b[39;00m  \u001b[39m## Where your manual non-diffable conv implementation resides\u001b[39;00m\n\u001b[1;32m    119\u001b[0m \u001b[39m## Retrieve data from tuple\u001b[39;00m\n\u001b[0;32m--> 120\u001b[0m X0, Y0, X1, Y1, D0, D1, D_info \u001b[39m=\u001b[39m data\n\u001b[1;32m    122\u001b[0m subtask \u001b[39m=\u001b[39m [\u001b[39m1\u001b[39m, \u001b[39m2\u001b[39m, \u001b[39m3\u001b[39m] \u001b[39mif\u001b[39;00m subtask \u001b[39m==\u001b[39m \u001b[39m\"\u001b[39m\u001b[39mall\u001b[39m\u001b[39m\"\u001b[39m \u001b[39melse\u001b[39;00m [\u001b[39mint\u001b[39m(subtask)]\n\u001b[1;32m    124\u001b[0m \u001b[39m## Get a working model with regular tf.keras.layers components\u001b[39;00m\n\u001b[1;32m    125\u001b[0m \u001b[39m## when task = 1.\u001b[39;00m\n",
      "\u001b[0;31mValueError\u001b[0m: not enough values to unpack (expected 7, got 4)"
     ]
    }
   ],
   "source": [
    "import assignment \n",
    "\n",
    "assignment.run_task(data, 3, epochs=5)"
   ]
  },
  {
   "cell_type": "markdown",
   "metadata": {},
   "source": [
    "## Wrapping Up\n",
    "\n",
    "Make sure your model runs and trains up to standards! When you find a model configuration that you like, feel free to update your `get_default_CNN_model` function so that the autograder can use it with your arguments. If your model takes too long to train (> 10 mins), the autograder may time out, so take consideration of that. "
   ]
  },
  {
   "cell_type": "code",
   "execution_count": 54,
   "metadata": {},
   "outputs": [],
   "source": [
    "## Run at least once\n",
    "from types import SimpleNamespace\n",
    "from conv_model import CustomSequential"
   ]
  },
  {
   "cell_type": "markdown",
   "metadata": {},
   "source": [
    "For convenience, you can copy your code here for quick testing!\n",
    "\n",
    "Make sure to put it back into your `conv_model.py` file for the autograder!"
   ]
  },
  {
   "cell_type": "code",
   "execution_count": 55,
   "metadata": {},
   "outputs": [],
   "source": [
    "def get_default_CNN_model(\n",
    "    conv_ns=tf.keras.layers,\n",
    "    norm_ns=tf.keras.layers,\n",
    "    drop_ns=tf.keras.layers,\n",
    "    man_conv_ns=tf.keras.layers,\n",
    "):\n",
    "    return None"
   ]
  },
  {
   "cell_type": "code",
   "execution_count": 56,
   "metadata": {},
   "outputs": [
    {
     "ename": "AttributeError",
     "evalue": "'NoneType' object has no attribute 'model'",
     "output_type": "error",
     "traceback": [
      "\u001b[0;31m---------------------------------------------------------------------------\u001b[0m",
      "\u001b[0;31mAttributeError\u001b[0m                            Traceback (most recent call last)",
      "Cell \u001b[0;32mIn [56], line 13\u001b[0m\n\u001b[1;32m      4\u001b[0m man_conv_ns \u001b[39m=\u001b[39m tf\u001b[39m.\u001b[39mkeras\u001b[39m.\u001b[39mlayers\n\u001b[1;32m      6\u001b[0m args \u001b[39m=\u001b[39m get_default_CNN_model(\n\u001b[1;32m      7\u001b[0m     conv_ns\u001b[39m=\u001b[39mconv_ns, \n\u001b[1;32m      8\u001b[0m     norm_ns\u001b[39m=\u001b[39mnorm_ns, \n\u001b[1;32m      9\u001b[0m     drop_ns\u001b[39m=\u001b[39mdrop_ns, \n\u001b[1;32m     10\u001b[0m     man_conv_ns\u001b[39m=\u001b[39mman_conv_ns\n\u001b[1;32m     11\u001b[0m )\n\u001b[0;32m---> 13\u001b[0m history \u001b[39m=\u001b[39m args\u001b[39m.\u001b[39;49mmodel\u001b[39m.\u001b[39mfit(\n\u001b[1;32m     14\u001b[0m     X0,\n\u001b[1;32m     15\u001b[0m     Y0,\n\u001b[1;32m     16\u001b[0m     epochs\u001b[39m=\u001b[39margs\u001b[39m.\u001b[39mepochs,\n\u001b[1;32m     17\u001b[0m     batch_size\u001b[39m=\u001b[39margs\u001b[39m.\u001b[39mbatch_size,\n\u001b[1;32m     18\u001b[0m     validation_data\u001b[39m=\u001b[39m(X1, Y1),\n\u001b[1;32m     19\u001b[0m )\n",
      "\u001b[0;31mAttributeError\u001b[0m: 'NoneType' object has no attribute 'model'"
     ]
    }
   ],
   "source": [
    "conv_ns = tf.keras.layers\n",
    "norm_ns = tf.keras.layers\n",
    "drop_ns = tf.keras.layers\n",
    "man_conv_ns = tf.keras.layers\n",
    "\n",
    "args = get_default_CNN_model(\n",
    "    conv_ns=conv_ns, \n",
    "    norm_ns=norm_ns, \n",
    "    drop_ns=drop_ns, \n",
    "    man_conv_ns=man_conv_ns\n",
    ")\n",
    "\n",
    "history = args.model.fit(\n",
    "    X0,\n",
    "    Y0,\n",
    "    epochs=args.epochs,\n",
    "    batch_size=args.batch_size,\n",
    "    validation_data=(X1, Y1),\n",
    ")"
   ]
  },
  {
   "cell_type": "markdown",
   "metadata": {},
   "source": [
    "### Sanity Checks\n",
    "\n",
    "In case you need them!"
   ]
  },
  {
   "cell_type": "code",
   "execution_count": 57,
   "metadata": {},
   "outputs": [
    {
     "ename": "NameError",
     "evalue": "name 'cnn_model' is not defined",
     "output_type": "error",
     "traceback": [
      "\u001b[0;31m---------------------------------------------------------------------------\u001b[0m",
      "\u001b[0;31mNameError\u001b[0m                                 Traceback (most recent call last)",
      "Cell \u001b[0;32mIn [57], line 1\u001b[0m\n\u001b[0;32m----> 1\u001b[0m P1 \u001b[39m=\u001b[39m np\u001b[39m.\u001b[39margmax(cnn_model\u001b[39m.\u001b[39mpredict(X1), \u001b[39m-\u001b[39m\u001b[39m1\u001b[39m)\n\u001b[1;32m      2\u001b[0m confusion_mtx \u001b[39m=\u001b[39m tf\u001b[39m.\u001b[39mmath\u001b[39m.\u001b[39mconfusion_matrix(P1, Y1)\n\u001b[1;32m      4\u001b[0m P0 \u001b[39m=\u001b[39m np\u001b[39m.\u001b[39margmax(cnn_model\u001b[39m.\u001b[39mpredict(X0), \u001b[39m-\u001b[39m\u001b[39m1\u001b[39m)\n",
      "\u001b[0;31mNameError\u001b[0m: name 'cnn_model' is not defined"
     ]
    }
   ],
   "source": [
    "P1 = np.argmax(cnn_model.predict(X1), -1)\n",
    "confusion_mtx = tf.math.confusion_matrix(P1, Y1)\n",
    "\n",
    "P0 = np.argmax(cnn_model.predict(X0), -1)\n",
    "confusion_mtx = tf.math.confusion_matrix(P0, Y0)\n",
    "plt.figure(figsize=(12, 9))\n",
    "plt.imshow(confusion_mtx, cmap='hot', interpolation='nearest')"
   ]
  },
  {
   "cell_type": "code",
   "execution_count": 58,
   "metadata": {},
   "outputs": [
    {
     "ename": "NameError",
     "evalue": "name 'cnn_model' is not defined",
     "output_type": "error",
     "traceback": [
      "\u001b[0;31m---------------------------------------------------------------------------\u001b[0m",
      "\u001b[0;31mNameError\u001b[0m                                 Traceback (most recent call last)",
      "Cell \u001b[0;32mIn [58], line 1\u001b[0m\n\u001b[0;32m----> 1\u001b[0m P1 \u001b[39m=\u001b[39m np\u001b[39m.\u001b[39margmax(cnn_model\u001b[39m.\u001b[39mpredict(X1), \u001b[39m-\u001b[39m\u001b[39m1\u001b[39m)\n\u001b[1;32m      2\u001b[0m confusion_mtx \u001b[39m=\u001b[39m tf\u001b[39m.\u001b[39mmath\u001b[39m.\u001b[39mconfusion_matrix(P1, Y1)\n\u001b[1;32m      3\u001b[0m plt\u001b[39m.\u001b[39mfigure(figsize\u001b[39m=\u001b[39m(\u001b[39m12\u001b[39m, \u001b[39m9\u001b[39m))\n",
      "\u001b[0;31mNameError\u001b[0m: name 'cnn_model' is not defined"
     ]
    }
   ],
   "source": [
    "P1 = np.argmax(cnn_model.predict(X1), -1)\n",
    "confusion_mtx = tf.math.confusion_matrix(P1, Y1)\n",
    "plt.figure(figsize=(12, 9))\n",
    "plt.imshow(confusion_mtx, cmap='hot', interpolation='nearest')"
   ]
  },
  {
   "cell_type": "code",
   "execution_count": 59,
   "metadata": {},
   "outputs": [
    {
     "ename": "NameError",
     "evalue": "name 'cnn_model' is not defined",
     "output_type": "error",
     "traceback": [
      "\u001b[0;31m---------------------------------------------------------------------------\u001b[0m",
      "\u001b[0;31mNameError\u001b[0m                                 Traceback (most recent call last)",
      "Cell \u001b[0;32mIn [59], line 4\u001b[0m\n\u001b[1;32m      1\u001b[0m fig, ax \u001b[39m=\u001b[39m plt\u001b[39m.\u001b[39msubplots(\u001b[39m2\u001b[39m, \u001b[39m10\u001b[39m)\n\u001b[1;32m      2\u001b[0m fig\u001b[39m.\u001b[39mset_size_inches(\u001b[39m24\u001b[39m, \u001b[39m8\u001b[39m)\n\u001b[0;32m----> 4\u001b[0m pred0 \u001b[39m=\u001b[39m cnn_model\u001b[39m.\u001b[39mpredict(X0[:\u001b[39m10\u001b[39m])\n\u001b[1;32m      5\u001b[0m pred1 \u001b[39m=\u001b[39m cnn_model\u001b[39m.\u001b[39mpredict(X1[:\u001b[39m10\u001b[39m])\n\u001b[1;32m      7\u001b[0m \u001b[39mdef\u001b[39;00m \u001b[39mp2l\u001b[39m(pred):\n",
      "\u001b[0;31mNameError\u001b[0m: name 'cnn_model' is not defined"
     ]
    },
    {
     "data": {
      "image/png": "[encoded data removed]",
      "text/plain": [
       "<Figure size 2400x800 with 20 Axes>"
      ]
     },
     "metadata": {},
     "output_type": "display_data"
    }
   ],
   "source": [
    "fig, ax = plt.subplots(2, 10)\n",
    "fig.set_size_inches(24, 8)\n",
    "\n",
    "pred0 = cnn_model.predict(X0[:10])\n",
    "pred1 = cnn_model.predict(X1[:10])\n",
    "\n",
    "def p2l(pred):\n",
    "    return D_info.features['label']._int2str[pred]\n",
    "\n",
    "for i in range(10):\n",
    "    ax[0][i].imshow(X0[i], cmap = \"Greys\")\n",
    "    ax[1][i].imshow(X1[i], cmap = \"Greys\")\n",
    "    ax[1][i].tick_params(left=False, bottom=False, labelleft=False, labelbottom=False)\n",
    "    ax[0][i].set_xlabel(f\"Pred {p2l(np.argmax(pred0[i], -1))} | {p2l(Y0[i])}\")    \n",
    "    ax[1][i].set_xlabel(f\"Pred {p2l(np.argmax(pred1[i], -1))} | {p2l(Y1[i])}\")"
   ]
  },
  {
   "cell_type": "code",
   "execution_count": null,
   "metadata": {},
   "outputs": [
    {
     "ename": "",
     "evalue": "",
     "output_type": "error",
     "traceback": [
      "\u001b[1;31mRunning cells with 'Python 3.10.4 64-bit' requires ipykernel package.\n",
      "\u001b[1;31mRun the following command to install 'ipykernel' into the Python environment. \n",
      "\u001b[1;31mCommand: '/usr/local/bin/python3 -m pip install ipykernel -U --user --force-reinstall'"
     ]
    }
   ],
   "source": []
  },
  {
   "cell_type": "code",
   "execution_count": null,
   "metadata": {},
   "outputs": [
    {
     "ename": "",
     "evalue": "",
     "output_type": "error",
     "traceback": [
      "\u001b[1;31mRunning cells with 'Python 3.10.4 64-bit' requires ipykernel package.\n",
      "\u001b[1;31mRun the following command to install 'ipykernel' into the Python environment. \n",
      "\u001b[1;31mCommand: '/usr/local/bin/python3 -m pip install ipykernel -U --user --force-reinstall'"
     ]
    }
   ],
   "source": []
  },
  {
   "cell_type": "code",
   "execution_count": null,
   "metadata": {},
   "outputs": [
    {
     "ename": "",
     "evalue": "",
     "output_type": "error",
     "traceback": [
      "\u001b[1;31mRunning cells with 'Python 3.10.4 64-bit' requires ipykernel package.\n",
      "\u001b[1;31mRun the following command to install 'ipykernel' into the Python environment. \n",
      "\u001b[1;31mCommand: '/usr/local/bin/python3 -m pip install ipykernel -U --user --force-reinstall'"
     ]
    }
   ],
   "source": []
  },
  {
   "cell_type": "code",
   "execution_count": null,
   "metadata": {},
   "outputs": [
    {
     "ename": "",
     "evalue": "",
     "output_type": "error",
     "traceback": [
      "\u001b[1;31mRunning cells with 'Python 3.10.4 64-bit' requires ipykernel package.\n",
      "\u001b[1;31mRun the following command to install 'ipykernel' into the Python environment. \n",
      "\u001b[1;31mCommand: '/usr/local/bin/python3 -m pip install ipykernel -U --user --force-reinstall'"
     ]
    }
   ],
   "source": []
  },
  {
   "cell_type": "code",
   "execution_count": null,
   "metadata": {},
   "outputs": [
    {
     "ename": "",
     "evalue": "",
     "output_type": "error",
     "traceback": [
      "\u001b[1;31mRunning cells with 'Python 3.10.4 64-bit' requires ipykernel package.\n",
      "\u001b[1;31mRun the following command to install 'ipykernel' into the Python environment. \n",
      "\u001b[1;31mCommand: '/usr/local/bin/python3 -m pip install ipykernel -U --user --force-reinstall'"
     ]
    }
   ],
   "source": []
  },
  {
   "cell_type": "code",
   "execution_count": null,
   "metadata": {},
   "outputs": [
    {
     "ename": "",
     "evalue": "",
     "output_type": "error",
     "traceback": [
      "\u001b[1;31mRunning cells with 'Python 3.10.4 64-bit' requires ipykernel package.\n",
      "\u001b[1;31mRun the following command to install 'ipykernel' into the Python environment. \n",
      "\u001b[1;31mCommand: '/usr/local/bin/python3 -m pip install ipykernel -U --user --force-reinstall'"
     ]
    }
   ],
   "source": []
  }
 ],
 "metadata": {
  "colab": {
   "collapsed_sections": [],
   "name": "HW3_CNN.ipynb",
   "provenance": []
  },
  "kernelspec": {
   "display_name": "Python 3.9.10 64-bit",
   "language": "python",
   "name": "python3"
  },
  "language_info": {
   "codemirror_mode": {
    "name": "ipython",
    "version": 3
   },
   "file_extension": ".py",
   "mimetype": "text/x-python",
   "name": "python",
   "nbconvert_exporter": "python",
   "pygments_lexer": "ipython3",
   "version": "3.9.10"
  },
  "vscode": {
   "interpreter": {
    "hash": "aee8b7b246df8f9039afb4144a1f6fd8d2ca17a180786b69acc140d282b71a49"
   }
  }
 },
 "nbformat": 4,
 "nbformat_minor": 4
}
